{
 "cells": [
  {
   "cell_type": "markdown",
   "id": "7952d5ab",
   "metadata": {},
   "source": [
    "# Homework 2 (HW2)\n",
    "\n",
    "By the end of this homework, we expect you to be able to:\n",
    "\n",
    "- Preprocess data and make it amenable to statistical analysis and machine learning models;\n",
    "- Train and test out-of-the-box machine learning models in `sklearn`;\n",
    "- Carry out simple multivariate regression analyses using `statsmodels`;\n",
    "- Use propensity score matching to estimate treatment effects;\n",
    "\n",
    "---\n",
    "\n",
    "## Important Dates\n",
    "\n",
    "- Homework release: Fri 15 Nov 2024\n",
    "- **Homework due**: Fri 29 Nov 2024, 23:59\n",
    "- Grade release: Mon 09 Dec 2024\n",
    "\n",
    "---\n",
    "\n",
    "##  Some rules\n",
    "\n",
    "1. You are allowed to use any built-in Python library that is included in the `requirements.txt` for this homework. If you use any additional library, this may complicate the grading process, and we reserve the right to penalize your grade for unnecessary complexity of the solution. All the questions can be solved with the libraries in `requirements.txt`.\n",
    "2. Please write all your comments in English, and use meaningful variable names in your code. Your repo should have a single notebook (plus the required data files) in the *master/main* branch. If there are multiple notebooks present, we will **not grade** anything.\n",
    "3. We will **not run your notebook for you**! Rather, we will grade it as is, which means that only the results contained in your evaluated code cells will be considered, and we will not see the results in unevaluated code cells. Thus, be sure to hand in a **fully-run and evaluated notebook**. In order to check whether everything looks as intended, you can check the rendered notebook on the GitHub website once you have pushed your solution there.\n",
    "4. In continuation to the previous point on additional library, interactive plots, such as those generated using `plotly`, should be **strictly avoided**!\n",
    "\n",
    "**A Note on using Language Models (LMs)**\n",
    "\n",
    "If you try hard enough, you will likely get away with cheating. Fortunately, our job is not to police, but rather to educate! So, please consider the following:\n",
    "\n",
    "Presumably, you are taking this course to learn something! LMs are not always right ([they often fail in silly ways](https://community.openai.com/t/why-9-11-is-larger-than-9-9-incredible/869824/4)). This course should prepare you to detect when they are wrong!\n",
    "Some of the TAs on this course literally published many works on detecting machine-generated text.\n",
    "\n",
    "Here LLM includes but not limited to chatbots like ChatGPT, coding assistants like Copilot. Do not even use them to prettify your code or correct English. If you are caught using LLMs, you will be reported to the instructor and subject to the consequences. \n",
    "\n",
    "\n",
    "---\n",
    "\n",
    "\n",
    "## Grading \n",
    "- The homework has a total of 100 points, distributed as follows:\n",
    "    - Part 1: Data Preprocessing ( 20 points)\n",
    "    - Part 2: Linear Regression (30 points)\n",
    "    - Part 3: Supervised Learning (40 points)\n",
    "    - Part 4: Propensity Score Matching (10 points)"
   ]
  },
  {
   "cell_type": "markdown",
   "id": "2b99beda",
   "metadata": {},
   "source": [
    "## Context\n",
    "\n",
    "Within EPFL's master program, you are excited to start an internship as a data scientist.\n",
    "After rounds of interviews, you have been selected to work with the biggest car dealership in Switzerland !\n",
    "\n",
    "Your mentor at the company Tim, has explained to you that the company is interested in a pricing model for used cars. \n",
    "\n",
    "- Tim: \"We have a lot of used cars in our inventory, and we need to determine the price at which we should sell these cars. We have some ideas about the factors that influence the price of a used car, but so far we have just been using our experience and intuition to determine the price of a used car. Sometimes it works, but probably we can do better and a more data-driven approach would also help our new employees in the sales team as they have less experience.\"\n",
    "\n",
    "- You: \"That sounds like a great project! What kind of data do we have?\"\n",
    "\n",
    "- Tim: \"We sell all kinds of cars here, but maybe we can start with a specific brand and model. For example, the Toyota Corolla is the best-selling car worldwide in 2023, and we have a lot of data on it. We can start by analyzing the data on used Toyota Corolla cars. If it works well, we can extend the analysis to other brands.\"\n",
    "\n",
    "The dataset contains the following columns:\n",
    "\n",
    "- `Age`: Age of the car in months.\n",
    "- `Mileage`: Number of distance the car has been driven. (km or miles)\n",
    "- `FuelType`: Fuel type of the car (Petrol, Diesel, or CNG)\n",
    "- `HP`: Horsepower\n",
    "- `MetColor`: Is the color of the car metallic? (Yes=1, No=0)\n",
    "- `Automatic`: Is the car automatic? (Yes=1, No=0)\n",
    "- `CC`: Cylinder volume in cubic centimeters\n",
    "- `Doors`: Number of doors\n",
    "- `Weight`: Weight of the car in kilograms\n",
    "- `Price`: Price of the car in euros\n",
    "\n",
    "\n",
    "## Data\n",
    "\n",
    "The data is provided in the `data` folder and it contains the following 3 csv files:\n",
    "- `Task1-2.ToyotaCorolla-clean.csv` and `Task1-2.ToyotaCorolla-raw.csv` for Part 1 and Part 2\n",
    "- `Task3.ToyotaCorolla_sales_3months.csv` for Part 3\n",
    "- `Task4.ToyotaCorolla_discount_sales` for Part 4\n",
    "\n",
    "You should not use any other data source for this homework.\n",
    "\n",
    "## References:\n",
    "\n",
    "The data is based on the ToyotaCorolla dataset from the UCI Machine Learning Repository [here](https://archive.ics.uci.edu/ml/datasets/Toyota+Corolla).\n",
    "We have made some modifications to the original dataset, so please use the data provided in the `data` folder in the course repo."
   ]
  },
  {
   "cell_type": "markdown",
   "id": "13a42aa7",
   "metadata": {},
   "source": [
    "## Task 1 (20 pts) - Get to know the data"
   ]
  },
  {
   "cell_type": "code",
   "execution_count": 1,
   "id": "faafd098",
   "metadata": {},
   "outputs": [],
   "source": [
    "import pandas as pd\n",
    "import numpy as np\n",
    "import matplotlib.pyplot as plt\n",
    "import statsmodels.api as sm\n",
    "import random\n",
    "import sklearn\n",
    "\n",
    "# fix random seed for reproducibility\n",
    "np.random.seed(42)\n",
    "random.seed(42)\n",
    "\n",
    "\n"
   ]
  },
  {
   "cell_type": "markdown",
   "id": "09a1d5a5",
   "metadata": {},
   "source": [
    "\n",
    "**1.1 (2 pts)**: Load the data from the file `Task1-2.ToyotaCorolla-raw.csv` into a pandas DataFrame. Display the first 5 rows of the DataFrame. Hint: A naive loading of the data will raise an error. You will need to figure out how to load the data correctly. (Hint: localise which row is causing the error)"
   ]
  },
  {
   "cell_type": "code",
   "execution_count": 2,
   "id": "ce30454b",
   "metadata": {},
   "outputs": [
    {
     "name": "stderr",
     "output_type": "stream",
     "text": [
      "/var/folders/dx/2ybxmrds0756ksq2t28pxqn00000gn/T/ipykernel_24080/798985277.py:2: ParserWarning: Skipping line 33: expected 11 fields, saw 12\n",
      "\n",
      "  raw_df_1_2 = pd.read_csv('data/Task1-2.ToyotaCorolla-raw.csv', on_bad_lines='warn')\n"
     ]
    },
    {
     "data": {
      "text/html": [
       "<div>\n",
       "<style scoped>\n",
       "    .dataframe tbody tr th:only-of-type {\n",
       "        vertical-align: middle;\n",
       "    }\n",
       "\n",
       "    .dataframe tbody tr th {\n",
       "        vertical-align: top;\n",
       "    }\n",
       "\n",
       "    .dataframe thead th {\n",
       "        text-align: right;\n",
       "    }\n",
       "</style>\n",
       "<table border=\"1\" class=\"dataframe\">\n",
       "  <thead>\n",
       "    <tr style=\"text-align: right;\">\n",
       "      <th></th>\n",
       "      <th>Price</th>\n",
       "      <th>Age</th>\n",
       "      <th>Mileage</th>\n",
       "      <th>FuelType</th>\n",
       "      <th>HP</th>\n",
       "      <th>MetColor</th>\n",
       "      <th>Automatic</th>\n",
       "      <th>CC</th>\n",
       "      <th>Doors</th>\n",
       "      <th>Weight</th>\n",
       "      <th>Currency</th>\n",
       "    </tr>\n",
       "  </thead>\n",
       "  <tbody>\n",
       "    <tr>\n",
       "      <th>0</th>\n",
       "      <td>13500.0</td>\n",
       "      <td>23.0</td>\n",
       "      <td>46986.0</td>\n",
       "      <td>Diesel</td>\n",
       "      <td>90.0</td>\n",
       "      <td>1.0</td>\n",
       "      <td>0.0</td>\n",
       "      <td>2000.0</td>\n",
       "      <td>3.0</td>\n",
       "      <td>1165.0</td>\n",
       "      <td>EURO</td>\n",
       "    </tr>\n",
       "    <tr>\n",
       "      <th>1</th>\n",
       "      <td>11878.0</td>\n",
       "      <td>23.0</td>\n",
       "      <td>72937.0</td>\n",
       "      <td>Diesel</td>\n",
       "      <td>90.0</td>\n",
       "      <td>1.0</td>\n",
       "      <td>0.0</td>\n",
       "      <td>2000.0</td>\n",
       "      <td>3.0</td>\n",
       "      <td>1165.0</td>\n",
       "      <td>CHF</td>\n",
       "    </tr>\n",
       "    <tr>\n",
       "      <th>2</th>\n",
       "      <td>12050.0</td>\n",
       "      <td>24.0</td>\n",
       "      <td>41711.0</td>\n",
       "      <td>Diesel</td>\n",
       "      <td>90.0</td>\n",
       "      <td>1.0</td>\n",
       "      <td>0.0</td>\n",
       "      <td>2000.0</td>\n",
       "      <td>3.0</td>\n",
       "      <td>1165.0</td>\n",
       "      <td>CHF</td>\n",
       "    </tr>\n",
       "    <tr>\n",
       "      <th>3</th>\n",
       "      <td>12914.0</td>\n",
       "      <td>26.0</td>\n",
       "      <td>48000.0</td>\n",
       "      <td>Diesel</td>\n",
       "      <td>90.0</td>\n",
       "      <td>0.0</td>\n",
       "      <td>0.0</td>\n",
       "      <td>2000.0</td>\n",
       "      <td>3.0</td>\n",
       "      <td>1165.0</td>\n",
       "      <td>CHF</td>\n",
       "    </tr>\n",
       "    <tr>\n",
       "      <th>4</th>\n",
       "      <td>11878.0</td>\n",
       "      <td>30.0</td>\n",
       "      <td>38500.0</td>\n",
       "      <td>Diesel</td>\n",
       "      <td>90.0</td>\n",
       "      <td>0.0</td>\n",
       "      <td>0.0</td>\n",
       "      <td>2000.0</td>\n",
       "      <td>3.0</td>\n",
       "      <td>1170.0</td>\n",
       "      <td>CHF</td>\n",
       "    </tr>\n",
       "  </tbody>\n",
       "</table>\n",
       "</div>"
      ],
      "text/plain": [
       "     Price   Age  Mileage FuelType    HP  MetColor  Automatic      CC  Doors  \\\n",
       "0  13500.0  23.0  46986.0   Diesel  90.0       1.0        0.0  2000.0    3.0   \n",
       "1  11878.0  23.0  72937.0   Diesel  90.0       1.0        0.0  2000.0    3.0   \n",
       "2  12050.0  24.0  41711.0   Diesel  90.0       1.0        0.0  2000.0    3.0   \n",
       "3  12914.0  26.0  48000.0   Diesel  90.0       0.0        0.0  2000.0    3.0   \n",
       "4  11878.0  30.0  38500.0   Diesel  90.0       0.0        0.0  2000.0    3.0   \n",
       "\n",
       "   Weight Currency  \n",
       "0  1165.0     EURO  \n",
       "1  1165.0      CHF  \n",
       "2  1165.0      CHF  \n",
       "3  1165.0      CHF  \n",
       "4  1170.0      CHF  "
      ]
     },
     "execution_count": 2,
     "metadata": {},
     "output_type": "execute_result"
    }
   ],
   "source": [
    " # TODO\n",
    "raw_df_1_2 = pd.read_csv('data/Task1-2.ToyotaCorolla-raw.csv', on_bad_lines='warn')\n",
    "raw_df_1_2.head()"
   ]
  },
  {
   "cell_type": "markdown",
   "id": "413fa896",
   "metadata": {},
   "source": [
    "**1.2 (2 pts)**: Check if there are nan values in the Dataframe. If there are, try to find out which row is problematic and fix it. If you can't fix it, drop the row."
   ]
  },
  {
   "cell_type": "code",
   "execution_count": 3,
   "id": "73dda0dd",
   "metadata": {},
   "outputs": [
    {
     "name": "stdout",
     "output_type": "stream",
     "text": [
      "<class 'pandas.core.frame.DataFrame'>\n",
      "RangeIndex: 1436 entries, 0 to 1435\n",
      "Data columns (total 11 columns):\n",
      " #   Column     Non-Null Count  Dtype  \n",
      "---  ------     --------------  -----  \n",
      " 0   Price      1436 non-null   object \n",
      " 1   Age        1435 non-null   float64\n",
      " 2   Mileage    1435 non-null   object \n",
      " 3   FuelType   1435 non-null   object \n",
      " 4   HP         1435 non-null   float64\n",
      " 5   MetColor   1435 non-null   float64\n",
      " 6   Automatic  1435 non-null   float64\n",
      " 7   CC         1435 non-null   float64\n",
      " 8   Doors      1435 non-null   float64\n",
      " 9   Weight     1435 non-null   float64\n",
      " 10  Currency   1435 non-null   object \n",
      "dtypes: float64(7), object(4)\n",
      "memory usage: 123.5+ KB\n"
     ]
    }
   ],
   "source": [
    "# TODO\n",
    "raw_df_1_2.info()"
   ]
  },
  {
   "cell_type": "code",
   "execution_count": 4,
   "id": "ec2fba6b",
   "metadata": {},
   "outputs": [
    {
     "data": {
      "text/html": [
       "<div>\n",
       "<style scoped>\n",
       "    .dataframe tbody tr th:only-of-type {\n",
       "        vertical-align: middle;\n",
       "    }\n",
       "\n",
       "    .dataframe tbody tr th {\n",
       "        vertical-align: top;\n",
       "    }\n",
       "\n",
       "    .dataframe thead th {\n",
       "        text-align: right;\n",
       "    }\n",
       "</style>\n",
       "<table border=\"1\" class=\"dataframe\">\n",
       "  <thead>\n",
       "    <tr style=\"text-align: right;\">\n",
       "      <th></th>\n",
       "      <th>Price</th>\n",
       "      <th>Age</th>\n",
       "      <th>Mileage</th>\n",
       "      <th>FuelType</th>\n",
       "      <th>HP</th>\n",
       "      <th>MetColor</th>\n",
       "      <th>Automatic</th>\n",
       "      <th>CC</th>\n",
       "      <th>Doors</th>\n",
       "      <th>Weight</th>\n",
       "      <th>Currency</th>\n",
       "    </tr>\n",
       "  </thead>\n",
       "  <tbody>\n",
       "    <tr>\n",
       "      <th>905</th>\n",
       "      <td>8423.0;68;58860.0;Petrol;110;1;0;1600;3;1055;CHF</td>\n",
       "      <td>NaN</td>\n",
       "      <td>NaN</td>\n",
       "      <td>NaN</td>\n",
       "      <td>NaN</td>\n",
       "      <td>NaN</td>\n",
       "      <td>NaN</td>\n",
       "      <td>NaN</td>\n",
       "      <td>NaN</td>\n",
       "      <td>NaN</td>\n",
       "      <td>NaN</td>\n",
       "    </tr>\n",
       "  </tbody>\n",
       "</table>\n",
       "</div>"
      ],
      "text/plain": [
       "                                                Price  Age Mileage FuelType  \\\n",
       "905  8423.0;68;58860.0;Petrol;110;1;0;1600;3;1055;CHF  NaN     NaN      NaN   \n",
       "\n",
       "     HP  MetColor  Automatic  CC  Doors  Weight Currency  \n",
       "905 NaN       NaN        NaN NaN    NaN     NaN      NaN  "
      ]
     },
     "execution_count": 4,
     "metadata": {},
     "output_type": "execute_result"
    }
   ],
   "source": [
    "# show rows with missing values\n",
    "abnormal_raw_df_1_2 = raw_df_1_2[raw_df_1_2.isnull().any(axis=1)]\n",
    "abnormal_raw_df_1_2"
   ]
  },
  {
   "cell_type": "code",
   "execution_count": 5,
   "id": "847ae04c",
   "metadata": {},
   "outputs": [
    {
     "data": {
      "text/html": [
       "<div>\n",
       "<style scoped>\n",
       "    .dataframe tbody tr th:only-of-type {\n",
       "        vertical-align: middle;\n",
       "    }\n",
       "\n",
       "    .dataframe tbody tr th {\n",
       "        vertical-align: top;\n",
       "    }\n",
       "\n",
       "    .dataframe thead th {\n",
       "        text-align: right;\n",
       "    }\n",
       "</style>\n",
       "<table border=\"1\" class=\"dataframe\">\n",
       "  <thead>\n",
       "    <tr style=\"text-align: right;\">\n",
       "      <th></th>\n",
       "      <th>Price</th>\n",
       "      <th>Age</th>\n",
       "      <th>Mileage</th>\n",
       "      <th>FuelType</th>\n",
       "      <th>HP</th>\n",
       "      <th>MetColor</th>\n",
       "      <th>Automatic</th>\n",
       "      <th>CC</th>\n",
       "      <th>Doors</th>\n",
       "      <th>Weight</th>\n",
       "      <th>Currency</th>\n",
       "    </tr>\n",
       "  </thead>\n",
       "  <tbody>\n",
       "    <tr>\n",
       "      <th>0</th>\n",
       "      <td>8423.0</td>\n",
       "      <td>68</td>\n",
       "      <td>58860.0</td>\n",
       "      <td>Petrol</td>\n",
       "      <td>110</td>\n",
       "      <td>1</td>\n",
       "      <td>0</td>\n",
       "      <td>1600</td>\n",
       "      <td>3</td>\n",
       "      <td>1055</td>\n",
       "      <td>CHF</td>\n",
       "    </tr>\n",
       "  </tbody>\n",
       "</table>\n",
       "</div>"
      ],
      "text/plain": [
       "    Price Age  Mileage FuelType   HP MetColor Automatic    CC Doors Weight  \\\n",
       "0  8423.0  68  58860.0   Petrol  110        1         0  1600     3   1055   \n",
       "\n",
       "  Currency  \n",
       "0      CHF  "
      ]
     },
     "execution_count": 5,
     "metadata": {},
     "output_type": "execute_result"
    }
   ],
   "source": [
    "abnormal_value = abnormal_raw_df_1_2['Price']\n",
    "abnormal_value = abnormal_value.values.tolist()[0].split(';')\n",
    "fixed_value_df = pd.DataFrame({label: val for label, val in zip(abnormal_raw_df_1_2.columns, abnormal_value)}, index=[0])\n",
    "fixed_value_df"
   ]
  },
  {
   "cell_type": "code",
   "execution_count": 6,
   "id": "c865ded8",
   "metadata": {},
   "outputs": [
    {
     "data": {
      "text/html": [
       "<div>\n",
       "<style scoped>\n",
       "    .dataframe tbody tr th:only-of-type {\n",
       "        vertical-align: middle;\n",
       "    }\n",
       "\n",
       "    .dataframe tbody tr th {\n",
       "        vertical-align: top;\n",
       "    }\n",
       "\n",
       "    .dataframe thead th {\n",
       "        text-align: right;\n",
       "    }\n",
       "</style>\n",
       "<table border=\"1\" class=\"dataframe\">\n",
       "  <thead>\n",
       "    <tr style=\"text-align: right;\">\n",
       "      <th></th>\n",
       "      <th>Price</th>\n",
       "      <th>Age</th>\n",
       "      <th>Mileage</th>\n",
       "      <th>FuelType</th>\n",
       "      <th>HP</th>\n",
       "      <th>MetColor</th>\n",
       "      <th>Automatic</th>\n",
       "      <th>CC</th>\n",
       "      <th>Doors</th>\n",
       "      <th>Weight</th>\n",
       "      <th>Currency</th>\n",
       "    </tr>\n",
       "  </thead>\n",
       "  <tbody>\n",
       "    <tr>\n",
       "      <th>0</th>\n",
       "      <td>13500.0</td>\n",
       "      <td>23.0</td>\n",
       "      <td>46986.0</td>\n",
       "      <td>Diesel</td>\n",
       "      <td>90.0</td>\n",
       "      <td>1.0</td>\n",
       "      <td>0.0</td>\n",
       "      <td>2000.0</td>\n",
       "      <td>3.0</td>\n",
       "      <td>1165.0</td>\n",
       "      <td>EURO</td>\n",
       "    </tr>\n",
       "    <tr>\n",
       "      <th>1</th>\n",
       "      <td>11878.0</td>\n",
       "      <td>23.0</td>\n",
       "      <td>72937.0</td>\n",
       "      <td>Diesel</td>\n",
       "      <td>90.0</td>\n",
       "      <td>1.0</td>\n",
       "      <td>0.0</td>\n",
       "      <td>2000.0</td>\n",
       "      <td>3.0</td>\n",
       "      <td>1165.0</td>\n",
       "      <td>CHF</td>\n",
       "    </tr>\n",
       "    <tr>\n",
       "      <th>2</th>\n",
       "      <td>12050.0</td>\n",
       "      <td>24.0</td>\n",
       "      <td>41711.0</td>\n",
       "      <td>Diesel</td>\n",
       "      <td>90.0</td>\n",
       "      <td>1.0</td>\n",
       "      <td>0.0</td>\n",
       "      <td>2000.0</td>\n",
       "      <td>3.0</td>\n",
       "      <td>1165.0</td>\n",
       "      <td>CHF</td>\n",
       "    </tr>\n",
       "    <tr>\n",
       "      <th>3</th>\n",
       "      <td>12914.0</td>\n",
       "      <td>26.0</td>\n",
       "      <td>48000.0</td>\n",
       "      <td>Diesel</td>\n",
       "      <td>90.0</td>\n",
       "      <td>0.0</td>\n",
       "      <td>0.0</td>\n",
       "      <td>2000.0</td>\n",
       "      <td>3.0</td>\n",
       "      <td>1165.0</td>\n",
       "      <td>CHF</td>\n",
       "    </tr>\n",
       "    <tr>\n",
       "      <th>4</th>\n",
       "      <td>11878.0</td>\n",
       "      <td>30.0</td>\n",
       "      <td>38500.0</td>\n",
       "      <td>Diesel</td>\n",
       "      <td>90.0</td>\n",
       "      <td>0.0</td>\n",
       "      <td>0.0</td>\n",
       "      <td>2000.0</td>\n",
       "      <td>3.0</td>\n",
       "      <td>1170.0</td>\n",
       "      <td>CHF</td>\n",
       "    </tr>\n",
       "    <tr>\n",
       "      <th>...</th>\n",
       "      <td>...</td>\n",
       "      <td>...</td>\n",
       "      <td>...</td>\n",
       "      <td>...</td>\n",
       "      <td>...</td>\n",
       "      <td>...</td>\n",
       "      <td>...</td>\n",
       "      <td>...</td>\n",
       "      <td>...</td>\n",
       "      <td>...</td>\n",
       "      <td>...</td>\n",
       "    </tr>\n",
       "    <tr>\n",
       "      <th>1431</th>\n",
       "      <td>9369.0</td>\n",
       "      <td>72.0</td>\n",
       "      <td>19000.0</td>\n",
       "      <td>Petrol</td>\n",
       "      <td>86.0</td>\n",
       "      <td>0.0</td>\n",
       "      <td>0.0</td>\n",
       "      <td>1300.0</td>\n",
       "      <td>3.0</td>\n",
       "      <td>1015.0</td>\n",
       "      <td>CHF</td>\n",
       "    </tr>\n",
       "    <tr>\n",
       "      <th>1432</th>\n",
       "      <td>7343.0</td>\n",
       "      <td>71.0</td>\n",
       "      <td>17016.0</td>\n",
       "      <td>Petrol</td>\n",
       "      <td>86.0</td>\n",
       "      <td>0.0</td>\n",
       "      <td>0.0</td>\n",
       "      <td>1300.0</td>\n",
       "      <td>3.0</td>\n",
       "      <td>1015.0</td>\n",
       "      <td>CHF</td>\n",
       "    </tr>\n",
       "    <tr>\n",
       "      <th>1433</th>\n",
       "      <td>6263.0</td>\n",
       "      <td>70.0</td>\n",
       "      <td>16916.0</td>\n",
       "      <td>Petrol</td>\n",
       "      <td>86.0</td>\n",
       "      <td>1.0</td>\n",
       "      <td>0.0</td>\n",
       "      <td>1300.0</td>\n",
       "      <td>3.0</td>\n",
       "      <td>1015.0</td>\n",
       "      <td>CHF</td>\n",
       "    </tr>\n",
       "    <tr>\n",
       "      <th>1434</th>\n",
       "      <td>6004.0</td>\n",
       "      <td>76.0</td>\n",
       "      <td>1.0</td>\n",
       "      <td>Petrol</td>\n",
       "      <td>110.0</td>\n",
       "      <td>0.0</td>\n",
       "      <td>0.0</td>\n",
       "      <td>1600.0</td>\n",
       "      <td>5.0</td>\n",
       "      <td>1114.0</td>\n",
       "      <td>CHF</td>\n",
       "    </tr>\n",
       "    <tr>\n",
       "      <th>1435</th>\n",
       "      <td>8423.0</td>\n",
       "      <td>68</td>\n",
       "      <td>58860.0</td>\n",
       "      <td>Petrol</td>\n",
       "      <td>110</td>\n",
       "      <td>1</td>\n",
       "      <td>0</td>\n",
       "      <td>1600</td>\n",
       "      <td>3</td>\n",
       "      <td>1055</td>\n",
       "      <td>CHF</td>\n",
       "    </tr>\n",
       "  </tbody>\n",
       "</table>\n",
       "<p>1436 rows × 11 columns</p>\n",
       "</div>"
      ],
      "text/plain": [
       "        Price   Age  Mileage FuelType     HP MetColor Automatic      CC Doors  \\\n",
       "0     13500.0  23.0  46986.0   Diesel   90.0      1.0       0.0  2000.0   3.0   \n",
       "1     11878.0  23.0  72937.0   Diesel   90.0      1.0       0.0  2000.0   3.0   \n",
       "2     12050.0  24.0  41711.0   Diesel   90.0      1.0       0.0  2000.0   3.0   \n",
       "3     12914.0  26.0  48000.0   Diesel   90.0      0.0       0.0  2000.0   3.0   \n",
       "4     11878.0  30.0  38500.0   Diesel   90.0      0.0       0.0  2000.0   3.0   \n",
       "...       ...   ...      ...      ...    ...      ...       ...     ...   ...   \n",
       "1431   9369.0  72.0  19000.0   Petrol   86.0      0.0       0.0  1300.0   3.0   \n",
       "1432   7343.0  71.0  17016.0   Petrol   86.0      0.0       0.0  1300.0   3.0   \n",
       "1433   6263.0  70.0  16916.0   Petrol   86.0      1.0       0.0  1300.0   3.0   \n",
       "1434   6004.0  76.0      1.0   Petrol  110.0      0.0       0.0  1600.0   5.0   \n",
       "1435   8423.0    68  58860.0   Petrol    110        1         0    1600     3   \n",
       "\n",
       "      Weight Currency  \n",
       "0     1165.0     EURO  \n",
       "1     1165.0      CHF  \n",
       "2     1165.0      CHF  \n",
       "3     1165.0      CHF  \n",
       "4     1170.0      CHF  \n",
       "...      ...      ...  \n",
       "1431  1015.0      CHF  \n",
       "1432  1015.0      CHF  \n",
       "1433  1015.0      CHF  \n",
       "1434  1114.0      CHF  \n",
       "1435    1055      CHF  \n",
       "\n",
       "[1436 rows x 11 columns]"
      ]
     },
     "execution_count": 6,
     "metadata": {},
     "output_type": "execute_result"
    }
   ],
   "source": [
    "fixed_df_1_2 = pd.concat([raw_df_1_2.dropna(how='any'), fixed_value_df]).reset_index(drop=True)\n",
    "fixed_df_1_2"
   ]
  },
  {
   "cell_type": "markdown",
   "id": "d90a678b",
   "metadata": {},
   "source": [
    "**1.3 (4 pts): Compute the mean, median of the `Price` column.**\n",
    "\n",
    "1. Compute the mean and median of the `Price` column. If you encounter error, try to understand why this error is happening and propose a solution.\n",
    "2. After computing the mean and median, do you think they are reasonable? If not, what could be the reason for this? \n",
    "  \n",
    "Hint: Is all values in the `Price` column numerical?\n"
   ]
  },
  {
   "cell_type": "code",
   "execution_count": 7,
   "id": "8b174fcd",
   "metadata": {},
   "outputs": [
    {
     "name": "stdout",
     "output_type": "stream",
     "text": [
      "15,398,499999999998 GBP\n",
      "19,817.949999999997 GBP\n",
      "14,851.099999999999 GBP\n",
      "14,851.099999999999 GBP\n",
      "11,424.099999999999 GBP\n",
      "10,877.849999999999 GBP\n",
      "11,871.449999999999 GBP\n",
      "11,871.449999999999 GBP\n",
      "12,017.499999999998 GBP\n",
      "9,864£ GBP\n",
      "9,834£ GBP\n",
      "13,659.699999999999 GBP\n",
      "11,816.249999999998 GBP\n",
      "7,898.2£ GBP\n",
      "9,884.25 GBP\n",
      "8,842.349999999999 GBP\n",
      "8,449.999 GBP\n",
      "7,992.499999999999 GBP\n",
      "8,890.65 GBP\n",
      "6,406.65 GBP\n",
      "7,302.499999999999 GBP\n",
      "5,610.0 CHF\n",
      "8,625.0 GBP\n",
      "6,855.15 GBP\n",
      "9,387.449999999999 GBP\n",
      "9,686.449999999999 GBP\n",
      "4,089.9999 GBP\n"
     ]
    }
   ],
   "source": [
    "for i, p in enumerate(fixed_df_1_2['Price']):\n",
    "    try:\n",
    "        float(p)\n",
    "    except Exception as e:\n",
    "        print(p, fixed_df_1_2.loc[i]['Currency'])"
   ]
  },
  {
   "cell_type": "code",
   "execution_count": 8,
   "id": "74504f5b",
   "metadata": {},
   "outputs": [],
   "source": [
    "prices = fixed_df_1_2['Price'].tolist()\n",
    "for i, p in enumerate(prices):\n",
    "    try:\n",
    "        prices[i] = float(p)\n",
    "    except:\n",
    "        prices[i] = prices[i].replace(',', '').replace('£', '')\n",
    "        prices[i] = float(prices[i])"
   ]
  },
  {
   "cell_type": "code",
   "execution_count": 9,
   "id": "069b4b55",
   "metadata": {},
   "outputs": [
    {
     "name": "stdout",
     "output_type": "stream",
     "text": [
      "<class 'pandas.core.frame.DataFrame'>\n",
      "RangeIndex: 1436 entries, 0 to 1435\n",
      "Data columns (total 11 columns):\n",
      " #   Column     Non-Null Count  Dtype  \n",
      "---  ------     --------------  -----  \n",
      " 0   Price      1436 non-null   float64\n",
      " 1   Age        1436 non-null   object \n",
      " 2   Mileage    1436 non-null   object \n",
      " 3   FuelType   1436 non-null   object \n",
      " 4   HP         1436 non-null   object \n",
      " 5   MetColor   1436 non-null   object \n",
      " 6   Automatic  1436 non-null   object \n",
      " 7   CC         1436 non-null   object \n",
      " 8   Doors      1436 non-null   object \n",
      " 9   Weight     1436 non-null   object \n",
      " 10  Currency   1436 non-null   object \n",
      "dtypes: float64(1), object(10)\n",
      "memory usage: 123.5+ KB\n"
     ]
    }
   ],
   "source": [
    "fixed_df_1_2['Price'] = prices\n",
    "fixed_df_1_2.info()"
   ]
  },
  {
   "cell_type": "code",
   "execution_count": 10,
   "id": "7827bdc7",
   "metadata": {},
   "outputs": [
    {
     "data": {
      "text/html": [
       "<div>\n",
       "<style scoped>\n",
       "    .dataframe tbody tr th:only-of-type {\n",
       "        vertical-align: middle;\n",
       "    }\n",
       "\n",
       "    .dataframe tbody tr th {\n",
       "        vertical-align: top;\n",
       "    }\n",
       "\n",
       "    .dataframe thead th {\n",
       "        text-align: right;\n",
       "    }\n",
       "</style>\n",
       "<table border=\"1\" class=\"dataframe\">\n",
       "  <thead>\n",
       "    <tr style=\"text-align: right;\">\n",
       "      <th></th>\n",
       "      <th>Price</th>\n",
       "      <th>Age</th>\n",
       "      <th>Mileage</th>\n",
       "      <th>FuelType</th>\n",
       "      <th>HP</th>\n",
       "      <th>MetColor</th>\n",
       "      <th>Automatic</th>\n",
       "      <th>CC</th>\n",
       "      <th>Doors</th>\n",
       "      <th>Weight</th>\n",
       "      <th>Currency</th>\n",
       "    </tr>\n",
       "  </thead>\n",
       "  <tbody>\n",
       "    <tr>\n",
       "      <th>33</th>\n",
       "      <td>1.539850e+16</td>\n",
       "      <td>22.0</td>\n",
       "      <td>25465.838509316767</td>\n",
       "      <td>Petrol</td>\n",
       "      <td>97.0</td>\n",
       "      <td>1.0</td>\n",
       "      <td>0.0</td>\n",
       "      <td>1400.0</td>\n",
       "      <td>3.0</td>\n",
       "      <td>1100.0</td>\n",
       "      <td>GBP</td>\n",
       "    </tr>\n",
       "  </tbody>\n",
       "</table>\n",
       "</div>"
      ],
      "text/plain": [
       "           Price   Age             Mileage FuelType    HP MetColor Automatic  \\\n",
       "33  1.539850e+16  22.0  25465.838509316767   Petrol  97.0      1.0       0.0   \n",
       "\n",
       "        CC Doors  Weight Currency  \n",
       "33  1400.0   3.0  1100.0      GBP  "
      ]
     },
     "execution_count": 10,
     "metadata": {},
     "output_type": "execute_result"
    }
   ],
   "source": [
    "extreme_value_criteria = (fixed_df_1_2['Price'] > 1e5) | (fixed_df_1_2['Price'] < 1e3)\n",
    "fixed_df_1_2[extreme_value_criteria]  # extreme values\n"
   ]
  },
  {
   "cell_type": "code",
   "execution_count": 11,
   "id": "a9f9890a",
   "metadata": {},
   "outputs": [],
   "source": [
    "fixed_df_1_2 = fixed_df_1_2[~extreme_value_criteria]  # drop extreme values"
   ]
  },
  {
   "cell_type": "code",
   "execution_count": 12,
   "id": "920c21c0",
   "metadata": {},
   "outputs": [
    {
     "name": "stdout",
     "output_type": "stream",
     "text": [
      "Mean: 9431.027490522647, Median: 8595.0\n"
     ]
    }
   ],
   "source": [
    "# print mean and median of the price\n",
    "print(f\"Mean: {fixed_df_1_2['Price'].mean()}, Median: {fixed_df_1_2['Price'].median()}\")"
   ]
  },
  {
   "cell_type": "markdown",
   "id": "14aa76f5",
   "metadata": {},
   "source": [
    "Mean value is much larger than median value. This phenomenon is reasonable.\n",
    "\n",
    "The price distribution is illustrated below. The distribution is right-skewed, indicating the presence of extremely high values in the data (e.g., prices exceeding 25,000). These large values can significantly raise the mean of the samples, whereas the median remains less affected by such extremes."
   ]
  },
  {
   "cell_type": "code",
   "execution_count": 13,
   "id": "faf16b6e",
   "metadata": {},
   "outputs": [
    {
     "data": {
      "image/png": "[encoded data removed]",
      "text/plain": [
       "<Figure size 640x480 with 1 Axes>"
      ]
     },
     "metadata": {},
     "output_type": "display_data"
    }
   ],
   "source": [
    "# price distribution\n",
    "plt.hist(fixed_df_1_2['Price'], bins=20)\n",
    "plt.xlabel('Price')\n",
    "plt.ylabel('Frequency')\n",
    "plt.title('Price Distribution in Task1-2.ToyotaCorolla-raw.csv')\n",
    "plt.show()"
   ]
  },
  {
   "cell_type": "markdown",
   "id": "17be3a32",
   "metadata": {},
   "source": [
    "**1.4 (4 pts): Convert Units**\n",
    "\n",
    "From now on, we will work with the cleaned data `Task1-2.ToyotaCorolla-clean.csv`. Read it into a DataFrame.\n",
    "\n",
    "You notice that some prices are in CHF (Swiss Francs), while others are in EUR (Euros) or GBP (British Pounds). Additionally, for cars priced in GBP, the mileage is in miles rather than kilometers.\n",
    "\n",
    "For consistency, convert all prices to CHF and all distances to kilometers.\n",
    "\n",
    "- Exchange rates:\n",
    "  - 1 CHF = 1.05 EUR\n",
    "  - 1 GBP = 1.15 CHF\n",
    "  - 1 mile = 1.61 km\n",
    "\n",
    "Make the following conversions:\n",
    "1. Convert prices in EUR or GBP to CHF, rounding to the nearest integer.\n",
    "2. Convert distances in miles (for GBP cars) to kilometers, rounding to the nearest integer.\n",
    "3. Drop the 'Currency' column.\n",
    "4. Calculate the min, mean, median and max of the 'Price' and 'Distance' columns after the conversion."
   ]
  },
  {
   "cell_type": "code",
   "execution_count": 14,
   "id": "b49ba1f2",
   "metadata": {},
   "outputs": [
    {
     "name": "stdout",
     "output_type": "stream",
     "text": [
      "<class 'pandas.core.frame.DataFrame'>\n",
      "RangeIndex: 1436 entries, 0 to 1435\n",
      "Data columns (total 11 columns):\n",
      " #   Column     Non-Null Count  Dtype  \n",
      "---  ------     --------------  -----  \n",
      " 0   Price      1436 non-null   float64\n",
      " 1   Age        1436 non-null   int64  \n",
      " 2   Mileage    1436 non-null   float64\n",
      " 3   FuelType   1436 non-null   object \n",
      " 4   HP         1436 non-null   int64  \n",
      " 5   MetColor   1436 non-null   int64  \n",
      " 6   Automatic  1436 non-null   int64  \n",
      " 7   CC         1436 non-null   int64  \n",
      " 8   Doors      1436 non-null   int64  \n",
      " 9   Weight     1436 non-null   int64  \n",
      " 10  Currency   1436 non-null   object \n",
      "dtypes: float64(2), int64(7), object(2)\n",
      "memory usage: 123.5+ KB\n"
     ]
    }
   ],
   "source": [
    "# TODO\n",
    "clean_df_1_2 = pd.read_csv('data/Task1-2.ToyotaCorolla-clean.csv')\n",
    "clean_df_1_2.info()"
   ]
  },
  {
   "cell_type": "code",
   "execution_count": 15,
   "id": "e1608b88",
   "metadata": {},
   "outputs": [
    {
     "data": {
      "text/plain": [
       "Currency\n",
       "CHF     1268\n",
       "EURO     141\n",
       "GBP       27\n",
       "Name: count, dtype: int64"
      ]
     },
     "execution_count": 15,
     "metadata": {},
     "output_type": "execute_result"
    }
   ],
   "source": [
    "clean_df_1_2['Currency'].value_counts()"
   ]
  },
  {
   "cell_type": "code",
   "execution_count": 16,
   "id": "f3f38b4a",
   "metadata": {},
   "outputs": [],
   "source": [
    "chf_clean_df_1_2 = clean_df_1_2[clean_df_1_2['Currency'] == 'CHF']"
   ]
  },
  {
   "cell_type": "code",
   "execution_count": 17,
   "id": "00387f3c",
   "metadata": {},
   "outputs": [
    {
     "name": "stdout",
     "output_type": "stream",
     "text": [
      "<class 'pandas.core.frame.DataFrame'>\n",
      "Index: 141 entries, 0 to 1410\n",
      "Data columns (total 11 columns):\n",
      " #   Column     Non-Null Count  Dtype \n",
      "---  ------     --------------  ----- \n",
      " 0   Price      141 non-null    int64 \n",
      " 1   Age        141 non-null    int64 \n",
      " 2   Mileage    141 non-null    int64 \n",
      " 3   FuelType   141 non-null    object\n",
      " 4   HP         141 non-null    int64 \n",
      " 5   MetColor   141 non-null    int64 \n",
      " 6   Automatic  141 non-null    int64 \n",
      " 7   CC         141 non-null    int64 \n",
      " 8   Doors      141 non-null    int64 \n",
      " 9   Weight     141 non-null    int64 \n",
      " 10  Currency   141 non-null    object\n",
      "dtypes: int64(9), object(2)\n",
      "memory usage: 13.2+ KB\n"
     ]
    }
   ],
   "source": [
    "eur_clean_df_1_2 = clean_df_1_2[clean_df_1_2['Currency'] == 'EURO'].copy()\n",
    "eur_clean_df_1_2['Price'] = eur_clean_df_1_2['Price'].apply(lambda x: int(x / 1.05))\n",
    "eur_clean_df_1_2['Mileage'] = eur_clean_df_1_2['Mileage'].astype(int)\n",
    "eur_clean_df_1_2['Currency'] = 'CHF'\n",
    "eur_clean_df_1_2.info()"
   ]
  },
  {
   "cell_type": "code",
   "execution_count": 18,
   "id": "8eb57ba2",
   "metadata": {},
   "outputs": [
    {
     "name": "stdout",
     "output_type": "stream",
     "text": [
      "<class 'pandas.core.frame.DataFrame'>\n",
      "Index: 27 entries, 31 to 1368\n",
      "Data columns (total 11 columns):\n",
      " #   Column     Non-Null Count  Dtype \n",
      "---  ------     --------------  ----- \n",
      " 0   Price      27 non-null     int64 \n",
      " 1   Age        27 non-null     int64 \n",
      " 2   Mileage    27 non-null     int64 \n",
      " 3   FuelType   27 non-null     object\n",
      " 4   HP         27 non-null     int64 \n",
      " 5   MetColor   27 non-null     int64 \n",
      " 6   Automatic  27 non-null     int64 \n",
      " 7   CC         27 non-null     int64 \n",
      " 8   Doors      27 non-null     int64 \n",
      " 9   Weight     27 non-null     int64 \n",
      " 10  Currency   27 non-null     object\n",
      "dtypes: int64(9), object(2)\n",
      "memory usage: 2.5+ KB\n"
     ]
    }
   ],
   "source": [
    "gbp_clean_df_1_2 = clean_df_1_2[clean_df_1_2['Currency'] == 'GBP'].copy()\n",
    "gbp_clean_df_1_2['Price'] = gbp_clean_df_1_2['Price'].apply(lambda x: int(x * 1.15))\n",
    "gbp_clean_df_1_2['Mileage'] = gbp_clean_df_1_2['Mileage'].apply(lambda x: int(x * 1.61))\n",
    "gbp_clean_df_1_2['Currency'] = 'CHF'\n",
    "gbp_clean_df_1_2.info()"
   ]
  },
  {
   "cell_type": "code",
   "execution_count": 19,
   "id": "9aed77b0",
   "metadata": {},
   "outputs": [
    {
     "name": "stdout",
     "output_type": "stream",
     "text": [
      "<class 'pandas.core.frame.DataFrame'>\n",
      "Index: 1268 entries, 1 to 1435\n",
      "Data columns (total 11 columns):\n",
      " #   Column     Non-Null Count  Dtype  \n",
      "---  ------     --------------  -----  \n",
      " 0   Price      1268 non-null   float64\n",
      " 1   Age        1268 non-null   int64  \n",
      " 2   Mileage    1268 non-null   float64\n",
      " 3   FuelType   1268 non-null   object \n",
      " 4   HP         1268 non-null   int64  \n",
      " 5   MetColor   1268 non-null   int64  \n",
      " 6   Automatic  1268 non-null   int64  \n",
      " 7   CC         1268 non-null   int64  \n",
      " 8   Doors      1268 non-null   int64  \n",
      " 9   Weight     1268 non-null   int64  \n",
      " 10  Currency   1268 non-null   object \n",
      "dtypes: float64(2), int64(7), object(2)\n",
      "memory usage: 118.9+ KB\n"
     ]
    }
   ],
   "source": [
    "chf_clean_df_1_2 = clean_df_1_2[clean_df_1_2['Currency'] == 'CHF'].copy()\n",
    "chf_clean_df_1_2.info()"
   ]
  },
  {
   "cell_type": "code",
   "execution_count": 20,
   "id": "d87ea884",
   "metadata": {},
   "outputs": [
    {
     "name": "stdout",
     "output_type": "stream",
     "text": [
      "<class 'pandas.core.frame.DataFrame'>\n",
      "Index: 1268 entries, 1 to 1435\n",
      "Data columns (total 11 columns):\n",
      " #   Column     Non-Null Count  Dtype \n",
      "---  ------     --------------  ----- \n",
      " 0   Price      1268 non-null   int64 \n",
      " 1   Age        1268 non-null   int64 \n",
      " 2   Mileage    1268 non-null   int64 \n",
      " 3   FuelType   1268 non-null   object\n",
      " 4   HP         1268 non-null   int64 \n",
      " 5   MetColor   1268 non-null   int64 \n",
      " 6   Automatic  1268 non-null   int64 \n",
      " 7   CC         1268 non-null   int64 \n",
      " 8   Doors      1268 non-null   int64 \n",
      " 9   Weight     1268 non-null   int64 \n",
      " 10  Currency   1268 non-null   object\n",
      "dtypes: int64(9), object(2)\n",
      "memory usage: 118.9+ KB\n"
     ]
    }
   ],
   "source": [
    "chf_clean_df_1_2['Price'] = chf_clean_df_1_2['Price'].astype(int)\n",
    "chf_clean_df_1_2['Mileage'] = chf_clean_df_1_2['Mileage'].astype(int)\n",
    "chf_clean_df_1_2.info()"
   ]
  },
  {
   "cell_type": "code",
   "execution_count": 21,
   "id": "2ed1513f",
   "metadata": {},
   "outputs": [
    {
     "name": "stdout",
     "output_type": "stream",
     "text": [
      "<class 'pandas.core.frame.DataFrame'>\n",
      "RangeIndex: 1436 entries, 0 to 1435\n",
      "Data columns (total 10 columns):\n",
      " #   Column     Non-Null Count  Dtype \n",
      "---  ------     --------------  ----- \n",
      " 0   Price      1436 non-null   int64 \n",
      " 1   Age        1436 non-null   int64 \n",
      " 2   Mileage    1436 non-null   int64 \n",
      " 3   FuelType   1436 non-null   object\n",
      " 4   HP         1436 non-null   int64 \n",
      " 5   MetColor   1436 non-null   int64 \n",
      " 6   Automatic  1436 non-null   int64 \n",
      " 7   CC         1436 non-null   int64 \n",
      " 8   Doors      1436 non-null   int64 \n",
      " 9   Weight     1436 non-null   int64 \n",
      "dtypes: int64(9), object(1)\n",
      "memory usage: 112.3+ KB\n"
     ]
    }
   ],
   "source": [
    "unified_df = pd.concat([chf_clean_df_1_2, eur_clean_df_1_2, gbp_clean_df_1_2]).drop(columns=['Currency']).reset_index(drop=True)\n",
    "unified_df.info()"
   ]
  },
  {
   "cell_type": "code",
   "execution_count": 22,
   "id": "b5abe891",
   "metadata": {},
   "outputs": [
    {
     "data": {
      "text/html": [
       "<div>\n",
       "<style scoped>\n",
       "    .dataframe tbody tr th:only-of-type {\n",
       "        vertical-align: middle;\n",
       "    }\n",
       "\n",
       "    .dataframe tbody tr th {\n",
       "        vertical-align: top;\n",
       "    }\n",
       "\n",
       "    .dataframe thead th {\n",
       "        text-align: right;\n",
       "    }\n",
       "</style>\n",
       "<table border=\"1\" class=\"dataframe\">\n",
       "  <thead>\n",
       "    <tr style=\"text-align: right;\">\n",
       "      <th></th>\n",
       "      <th>Price</th>\n",
       "      <th>Age</th>\n",
       "      <th>Mileage</th>\n",
       "      <th>FuelType</th>\n",
       "      <th>HP</th>\n",
       "      <th>MetColor</th>\n",
       "      <th>Automatic</th>\n",
       "      <th>CC</th>\n",
       "      <th>Doors</th>\n",
       "      <th>Weight</th>\n",
       "    </tr>\n",
       "  </thead>\n",
       "  <tbody>\n",
       "    <tr>\n",
       "      <th>0</th>\n",
       "      <td>11878</td>\n",
       "      <td>23</td>\n",
       "      <td>72937</td>\n",
       "      <td>Diesel</td>\n",
       "      <td>90</td>\n",
       "      <td>1</td>\n",
       "      <td>0</td>\n",
       "      <td>2000</td>\n",
       "      <td>3</td>\n",
       "      <td>1165</td>\n",
       "    </tr>\n",
       "    <tr>\n",
       "      <th>1</th>\n",
       "      <td>12050</td>\n",
       "      <td>24</td>\n",
       "      <td>41711</td>\n",
       "      <td>Diesel</td>\n",
       "      <td>90</td>\n",
       "      <td>1</td>\n",
       "      <td>0</td>\n",
       "      <td>2000</td>\n",
       "      <td>3</td>\n",
       "      <td>1165</td>\n",
       "    </tr>\n",
       "    <tr>\n",
       "      <th>2</th>\n",
       "      <td>12914</td>\n",
       "      <td>26</td>\n",
       "      <td>48000</td>\n",
       "      <td>Diesel</td>\n",
       "      <td>90</td>\n",
       "      <td>0</td>\n",
       "      <td>0</td>\n",
       "      <td>2000</td>\n",
       "      <td>3</td>\n",
       "      <td>1165</td>\n",
       "    </tr>\n",
       "    <tr>\n",
       "      <th>3</th>\n",
       "      <td>11878</td>\n",
       "      <td>30</td>\n",
       "      <td>38500</td>\n",
       "      <td>Diesel</td>\n",
       "      <td>90</td>\n",
       "      <td>0</td>\n",
       "      <td>0</td>\n",
       "      <td>2000</td>\n",
       "      <td>3</td>\n",
       "      <td>1170</td>\n",
       "    </tr>\n",
       "    <tr>\n",
       "      <th>4</th>\n",
       "      <td>11187</td>\n",
       "      <td>32</td>\n",
       "      <td>61000</td>\n",
       "      <td>Diesel</td>\n",
       "      <td>90</td>\n",
       "      <td>0</td>\n",
       "      <td>0</td>\n",
       "      <td>2000</td>\n",
       "      <td>3</td>\n",
       "      <td>1170</td>\n",
       "    </tr>\n",
       "  </tbody>\n",
       "</table>\n",
       "</div>"
      ],
      "text/plain": [
       "   Price  Age  Mileage FuelType  HP  MetColor  Automatic    CC  Doors  Weight\n",
       "0  11878   23    72937   Diesel  90         1          0  2000      3    1165\n",
       "1  12050   24    41711   Diesel  90         1          0  2000      3    1165\n",
       "2  12914   26    48000   Diesel  90         0          0  2000      3    1165\n",
       "3  11878   30    38500   Diesel  90         0          0  2000      3    1170\n",
       "4  11187   32    61000   Diesel  90         0          0  2000      3    1170"
      ]
     },
     "execution_count": 22,
     "metadata": {},
     "output_type": "execute_result"
    }
   ],
   "source": [
    "unified_df.head()"
   ]
  },
  {
   "cell_type": "code",
   "execution_count": 23,
   "id": "ce59042d",
   "metadata": {},
   "outputs": [
    {
     "data": {
      "text/plain": [
       "count     1436.000000\n",
       "mean      9423.480501\n",
       "std       3219.518969\n",
       "min       3758.000000\n",
       "25%       7343.000000\n",
       "50%       8595.000000\n",
       "75%      10323.000000\n",
       "max      28074.000000\n",
       "Name: Price, dtype: float64"
      ]
     },
     "execution_count": 23,
     "metadata": {},
     "output_type": "execute_result"
    }
   ],
   "source": [
    "unified_df['Price'].describe()"
   ]
  },
  {
   "cell_type": "code",
   "execution_count": 24,
   "id": "966ae3c9",
   "metadata": {},
   "outputs": [
    {
     "data": {
      "text/plain": [
       "count      1436.000000\n",
       "mean      68533.257660\n",
       "std       37506.448339\n",
       "min           1.000000\n",
       "25%       43000.000000\n",
       "50%       63389.500000\n",
       "75%       87020.750000\n",
       "max      243000.000000\n",
       "Name: Mileage, dtype: float64"
      ]
     },
     "execution_count": 24,
     "metadata": {},
     "output_type": "execute_result"
    }
   ],
   "source": [
    "unified_df['Mileage'].describe()"
   ]
  },
  {
   "cell_type": "markdown",
   "id": "cf48a107",
   "metadata": {},
   "source": [
    "**1.5 (2 pts): Analyze Average Price**\n",
    "\n",
    "A.  Print the average price for each fuel type. Determine which fuel type has the highest average price.\n",
    "\n",
    "B.  Print the average price for different numbers of doors. Determine which number of doors has the highest average price."
   ]
  },
  {
   "cell_type": "code",
   "execution_count": 25,
   "id": "344632e1",
   "metadata": {},
   "outputs": [
    {
     "data": {
      "text/plain": [
       "FuelType\n",
       "Petrol    1264\n",
       "Diesel     155\n",
       "CNG         17\n",
       "Name: count, dtype: int64"
      ]
     },
     "execution_count": 25,
     "metadata": {},
     "output_type": "execute_result"
    }
   ],
   "source": [
    "unified_df['FuelType'].value_counts()"
   ]
  },
  {
   "cell_type": "code",
   "execution_count": 26,
   "id": "91a42eba",
   "metadata": {},
   "outputs": [
    {
     "name": "stdout",
     "output_type": "stream",
     "text": [
      "FuelType: Petrol, average price: 9381.67\n",
      "FuelType: Diesel, average price: 9878.57\n",
      "FuelType: CNG, average price: 8383.18\n"
     ]
    }
   ],
   "source": [
    "# TODO\n",
    "for fuel in unified_df['FuelType'].value_counts().index:\n",
    "    print(f\"FuelType: {fuel}, average price: {unified_df[unified_df['FuelType'] == fuel]['Price'].mean():.2f}\")"
   ]
  },
  {
   "cell_type": "markdown",
   "id": "cf88ffa4",
   "metadata": {},
   "source": [
    "1.5.A: Diesel has the highest average price"
   ]
  },
  {
   "cell_type": "code",
   "execution_count": 27,
   "id": "f49db7ef",
   "metadata": {},
   "outputs": [
    {
     "data": {
      "text/plain": [
       "Doors\n",
       "5    674\n",
       "3    622\n",
       "4    138\n",
       "2      2\n",
       "Name: count, dtype: int64"
      ]
     },
     "execution_count": 27,
     "metadata": {},
     "output_type": "execute_result"
    }
   ],
   "source": [
    "unified_df['Doors'].value_counts()"
   ]
  },
  {
   "cell_type": "code",
   "execution_count": 28,
   "id": "40086f01",
   "metadata": {},
   "outputs": [
    {
     "name": "stdout",
     "output_type": "stream",
     "text": [
      "Doors: 5, average price: 10082.76\n",
      "Doors: 3, average price: 8898.62\n",
      "Doors: 4, average price: 8604.33\n",
      "Doors: 2, average price: 6997.50\n"
     ]
    }
   ],
   "source": [
    "for door in unified_df['Doors'].value_counts().index:\n",
    "    print(f\"Doors: {door}, average price: {unified_df[unified_df['Doors'] == door]['Price'].mean():.2f}\")"
   ]
  },
  {
   "cell_type": "markdown",
   "id": "64d339c8",
   "metadata": {},
   "source": [
    "1.5.B: Cars with 5 doors have the highest average price"
   ]
  },
  {
   "cell_type": "markdown",
   "id": "0085fbeb",
   "metadata": {},
   "source": [
    "**1.6 (2 pts): Relationship Between Car Age and Price**\n",
    "\n",
    "It is intuitive that an older car tends to be cheaper, and a car with more mileage might also be less expensive. \n",
    "\n",
    "To explore this intuition, create two scatter plots:\n",
    "1. Car Age vs Price\n",
    "2. Mileage vs Price"
   ]
  },
  {
   "cell_type": "code",
   "execution_count": 29,
   "id": "01d72d83",
   "metadata": {},
   "outputs": [
    {
     "data": {
      "text/plain": [
       "Text(0.5, 1.0, 'Scatter Plot of Age vs Price \\n(Task1-2.ToyotaCorolla-clean.csv)')"
      ]
     },
     "execution_count": 29,
     "metadata": {},
     "output_type": "execute_result"
    },
    {
     "data": {
      "image/png": "[encoded data removed]",
      "text/plain": [
       "<Figure size 640x480 with 1 Axes>"
      ]
     },
     "metadata": {},
     "output_type": "display_data"
    }
   ],
   "source": [
    "# TODO\n",
    "# scatter Age vs Price\n",
    "plt.scatter(unified_df['Age'], unified_df['Price'])\n",
    "plt.xlabel('Age')\n",
    "plt.ylabel('Price')\n",
    "plt.title('Scatter Plot of Age vs Price \\n(Task1-2.ToyotaCorolla-clean.csv)')"
   ]
  },
  {
   "cell_type": "code",
   "execution_count": 30,
   "id": "e3256025",
   "metadata": {},
   "outputs": [
    {
     "data": {
      "text/plain": [
       "Text(0.5, 1.0, 'Scatter Plot of Mileage vs Price \\n(Task1-2.ToyotaCorolla-clean.csv)')"
      ]
     },
     "execution_count": 30,
     "metadata": {},
     "output_type": "execute_result"
    },
    {
     "data": {
      "image/png": "[encoded data removed]",
      "text/plain": [
       "<Figure size 640x480 with 1 Axes>"
      ]
     },
     "metadata": {},
     "output_type": "display_data"
    }
   ],
   "source": [
    "# scatter Mileage vs Price\n",
    "plt.scatter(unified_df['Mileage'], unified_df['Price'])\n",
    "plt.xlabel('Mileage')\n",
    "plt.ylabel('Price')\n",
    "plt.title('Scatter Plot of Mileage vs Price \\n(Task1-2.ToyotaCorolla-clean.csv)')\n"
   ]
  },
  {
   "cell_type": "markdown",
   "id": "6d35a238",
   "metadata": {},
   "source": [
    "**1.7 (4 pts): Correlation Between Price and Mileage**\n",
    "\n",
    "The relationship between car price and mileage appears non-linear, with a steeper price drop initially followed by a flatter curve.\n",
    "\n",
    "A.(2 pts)  Calculate both the Pearson and Spearman correlations between the price of the car and the distance driven.\n"
   ]
  },
  {
   "cell_type": "code",
   "execution_count": 31,
   "id": "2b5927e9",
   "metadata": {},
   "outputs": [
    {
     "data": {
      "text/html": [
       "<div>\n",
       "<style scoped>\n",
       "    .dataframe tbody tr th:only-of-type {\n",
       "        vertical-align: middle;\n",
       "    }\n",
       "\n",
       "    .dataframe tbody tr th {\n",
       "        vertical-align: top;\n",
       "    }\n",
       "\n",
       "    .dataframe thead th {\n",
       "        text-align: right;\n",
       "    }\n",
       "</style>\n",
       "<table border=\"1\" class=\"dataframe\">\n",
       "  <thead>\n",
       "    <tr style=\"text-align: right;\">\n",
       "      <th></th>\n",
       "      <th>Price</th>\n",
       "      <th>Mileage</th>\n",
       "    </tr>\n",
       "  </thead>\n",
       "  <tbody>\n",
       "    <tr>\n",
       "      <th>Price</th>\n",
       "      <td>1.000000</td>\n",
       "      <td>-0.563418</td>\n",
       "    </tr>\n",
       "    <tr>\n",
       "      <th>Mileage</th>\n",
       "      <td>-0.563418</td>\n",
       "      <td>1.000000</td>\n",
       "    </tr>\n",
       "  </tbody>\n",
       "</table>\n",
       "</div>"
      ],
      "text/plain": [
       "            Price   Mileage\n",
       "Price    1.000000 -0.563418\n",
       "Mileage -0.563418  1.000000"
      ]
     },
     "execution_count": 31,
     "metadata": {},
     "output_type": "execute_result"
    }
   ],
   "source": [
    "# TODO\n",
    "unified_df[['Price', 'Mileage']].corr(method='pearson')"
   ]
  },
  {
   "cell_type": "code",
   "execution_count": 32,
   "id": "4eaabd78",
   "metadata": {},
   "outputs": [
    {
     "data": {
      "text/html": [
       "<div>\n",
       "<style scoped>\n",
       "    .dataframe tbody tr th:only-of-type {\n",
       "        vertical-align: middle;\n",
       "    }\n",
       "\n",
       "    .dataframe tbody tr th {\n",
       "        vertical-align: top;\n",
       "    }\n",
       "\n",
       "    .dataframe thead th {\n",
       "        text-align: right;\n",
       "    }\n",
       "</style>\n",
       "<table border=\"1\" class=\"dataframe\">\n",
       "  <thead>\n",
       "    <tr style=\"text-align: right;\">\n",
       "      <th></th>\n",
       "      <th>Price</th>\n",
       "      <th>Mileage</th>\n",
       "    </tr>\n",
       "  </thead>\n",
       "  <tbody>\n",
       "    <tr>\n",
       "      <th>Price</th>\n",
       "      <td>1.000000</td>\n",
       "      <td>-0.605361</td>\n",
       "    </tr>\n",
       "    <tr>\n",
       "      <th>Mileage</th>\n",
       "      <td>-0.605361</td>\n",
       "      <td>1.000000</td>\n",
       "    </tr>\n",
       "  </tbody>\n",
       "</table>\n",
       "</div>"
      ],
      "text/plain": [
       "            Price   Mileage\n",
       "Price    1.000000 -0.605361\n",
       "Mileage -0.605361  1.000000"
      ]
     },
     "execution_count": 32,
     "metadata": {},
     "output_type": "execute_result"
    }
   ],
   "source": [
    "unified_df[['Price', 'Mileage']].corr(method='spearman')"
   ]
  },
  {
   "cell_type": "markdown",
   "id": "f28a201c",
   "metadata": {},
   "source": [
    "\n",
    "B.(2 pts)  Which correlation value is higher? Does this result align with your expectations?"
   ]
  },
  {
   "cell_type": "markdown",
   "id": "d4272cf8",
   "metadata": {},
   "source": [
    "The Pearson correlation coefficient between `Price` and `Mileage` is -0.56.\n",
    "\n",
    "The Spearman correlation coefficient between `Price` and `Mileage` is -0.61.\n",
    "\n",
    "The absolute value of Spearman correlation coefficient is higher than that of the Pearson correlation coefficient. The result aligns with our expectations. Pearson correlation coefficient shows the linearity between two varaibles, while Spearman correlation coefficient illustrates how well two variables could be described with a monotonic function. In our situation, our assumption is that as mileage increases, the price tends to decrease, which is a assumption on monotonicity, not necessarily linear correlation. So it makes sense that the Spearman correlation coefficent has higher absolute value, compared to Pearson correlation coefficient.\n"
   ]
  },
  {
   "cell_type": "markdown",
   "id": "40229147",
   "metadata": {},
   "source": [
    "## Part 2 Linear Regression (30 pts)\n",
    "\n",
    "You want to build a linear regression model to predict the price of a car based on the features you have.\n",
    "\n"
   ]
  },
  {
   "cell_type": "markdown",
   "id": "50fc07fb",
   "metadata": {},
   "source": [
    "**2.0 (8 pts) Helper functions**\n",
    "\n",
    "Before building machine learning models, how to asses performance is crucial. Hence we first implement some helper functions to asses the performance of our model. We can use these later throughout the exercise.\n",
    "\n",
    "Implement the `accuracy` , `precision`, `recall` and `f1_score` functions with the following requirements:\n",
    "\n",
    "1. These functions should take in the true labels(`np.array`) and the predicted labels(`np.array`) and return the corresponding metric. \n",
    "2. They should follow the convention that the positive class is 1 and the negative class is 0.\n",
    "3. Apply the functions to the following data:\n",
    "\n",
    "```python\n",
    "true_labels = np.array([1, 0, 1, 1, 0, 1, 0, 0, 1, 0])\n",
    "predicted_labels = np.array([1, 1, 1, 1, 0, 0, 1, 0, 1, 0])\n",
    "```\n",
    "\n",
    "Compare the results with the implementation in `sklearn` and see if they match."
   ]
  },
  {
   "cell_type": "code",
   "execution_count": 33,
   "id": "73e77205",
   "metadata": {},
   "outputs": [],
   "source": [
    "# TODO\n",
    "true_labels = np.array([1, 0, 1, 1, 0, 1, 0, 0, 1, 0])\n",
    "predicted_labels = np.array([1, 1, 1, 1, 0, 0, 1, 0, 1, 0])\n"
   ]
  },
  {
   "cell_type": "code",
   "execution_count": 34,
   "id": "3e06d000",
   "metadata": {},
   "outputs": [],
   "source": [
    "import sklearn.metrics\n",
    "def accuracy(true_labels, predicted_labels):\n",
    "    return sum(true_labels == predicted_labels) / len(true_labels)\n",
    "def precision(true_labels, predicted_labels):\n",
    "    TP = sum((true_labels == 1) & (predicted_labels == 1))\n",
    "    FP = sum((true_labels == 0) & (predicted_labels == 1))\n",
    "    return TP / (TP + FP)\n",
    "def recall(true_labels, predicted_labels):\n",
    "    TP = sum((true_labels == 1) & (predicted_labels == 1))\n",
    "    FN = sum((true_labels == 1) & (predicted_labels == 0))\n",
    "    return TP / (TP + FN)\n",
    "def f1(true_labels, predicted_labels):\n",
    "    prec = precision(true_labels, predicted_labels)\n",
    "    rec = recall(true_labels, predicted_labels)\n",
    "    return 2 * prec * rec / (prec + rec)\n",
    "\n",
    "assert(abs(accuracy(true_labels, predicted_labels) - sklearn.metrics.accuracy_score(true_labels, predicted_labels)) < 1e-6)\n",
    "assert(abs(precision(true_labels, predicted_labels) - sklearn.metrics.precision_score(true_labels, predicted_labels)) < 1e-6)\n",
    "assert(abs(recall(true_labels, predicted_labels) - sklearn.metrics.recall_score(true_labels, predicted_labels)) < 1e-6)\n",
    "assert(abs(f1(true_labels, predicted_labels) - sklearn.metrics.f1_score(true_labels, predicted_labels)) < 1e-6)"
   ]
  },
  {
   "cell_type": "code",
   "execution_count": 35,
   "id": "977b6395",
   "metadata": {},
   "outputs": [
    {
     "name": "stdout",
     "output_type": "stream",
     "text": [
      "Accuracy: 0.700\n",
      "Precision: 0.667\n",
      "Recall: 0.800\n",
      "F1: 0.727\n"
     ]
    }
   ],
   "source": [
    "print(f\"Accuracy: {accuracy(true_labels, predicted_labels):.3f}\")\n",
    "print(f\"Precision: {precision(true_labels, predicted_labels):.3f}\")\n",
    "print(f\"Recall: {recall(true_labels, predicted_labels):.3f}\")\n",
    "print(f\"F1: {f1(true_labels, predicted_labels):.3f}\")"
   ]
  },
  {
   "cell_type": "markdown",
   "id": "98fc74b9",
   "metadata": {},
   "source": [
    "\n",
    "**2.1 (6 pts) Preprocess the Data**\n",
    "\n",
    "To prepare your data for building a linear regression model, complete the following steps:\n",
    "\n",
    "A.(1 pts) Convert the categorical variables to one-hot encoding using the `pd.get_dummies()` function, how many columns do you have after the one-hot encoding? (P.S. You may want to avoid introducing multicollinearity with one-hot encoding, what should you do to avoid this?)\n"
   ]
  },
  {
   "cell_type": "code",
   "execution_count": 36,
   "id": "c439e762",
   "metadata": {},
   "outputs": [],
   "source": [
    "# TODO"
   ]
  },
  {
   "cell_type": "code",
   "execution_count": 37,
   "id": "afb3b30a",
   "metadata": {},
   "outputs": [
    {
     "name": "stdout",
     "output_type": "stream",
     "text": [
      "<class 'pandas.core.frame.DataFrame'>\n",
      "RangeIndex: 1436 entries, 0 to 1435\n",
      "Data columns (total 11 columns):\n",
      " #   Column           Non-Null Count  Dtype\n",
      "---  ------           --------------  -----\n",
      " 0   Price            1436 non-null   int64\n",
      " 1   Age              1436 non-null   int64\n",
      " 2   Mileage          1436 non-null   int64\n",
      " 3   HP               1436 non-null   int64\n",
      " 4   CC               1436 non-null   int64\n",
      " 5   Doors            1436 non-null   int64\n",
      " 6   Weight           1436 non-null   int64\n",
      " 7   FuelType_Diesel  1436 non-null   int64\n",
      " 8   FuelType_Petrol  1436 non-null   int64\n",
      " 9   Automatic_1      1436 non-null   int64\n",
      " 10  MetColor_1       1436 non-null   int64\n",
      "dtypes: int64(11)\n",
      "memory usage: 123.5 KB\n"
     ]
    }
   ],
   "source": [
    "categorical_features = ['FuelType', 'Automatic', 'MetColor']\n",
    "dummied_df = pd.get_dummies(unified_df, columns=categorical_features, drop_first=True)\n",
    "for c in dummied_df.columns:\n",
    "    if c.startswith('FuelType') or c.startswith('Automatic') or c.startswith('MetColor'):\n",
    "        dummied_df[c] = dummied_df[c].astype(int)\n",
    "dummied_df.info()"
   ]
  },
  {
   "cell_type": "code",
   "execution_count": 38,
   "id": "409abb42",
   "metadata": {},
   "outputs": [
    {
     "data": {
      "text/html": [
       "<div>\n",
       "<style scoped>\n",
       "    .dataframe tbody tr th:only-of-type {\n",
       "        vertical-align: middle;\n",
       "    }\n",
       "\n",
       "    .dataframe tbody tr th {\n",
       "        vertical-align: top;\n",
       "    }\n",
       "\n",
       "    .dataframe thead th {\n",
       "        text-align: right;\n",
       "    }\n",
       "</style>\n",
       "<table border=\"1\" class=\"dataframe\">\n",
       "  <thead>\n",
       "    <tr style=\"text-align: right;\">\n",
       "      <th></th>\n",
       "      <th>Price</th>\n",
       "      <th>Age</th>\n",
       "      <th>Mileage</th>\n",
       "      <th>HP</th>\n",
       "      <th>CC</th>\n",
       "      <th>Doors</th>\n",
       "      <th>Weight</th>\n",
       "      <th>FuelType_Diesel</th>\n",
       "      <th>FuelType_Petrol</th>\n",
       "      <th>Automatic_1</th>\n",
       "      <th>MetColor_1</th>\n",
       "    </tr>\n",
       "  </thead>\n",
       "  <tbody>\n",
       "    <tr>\n",
       "      <th>0</th>\n",
       "      <td>11878</td>\n",
       "      <td>23</td>\n",
       "      <td>72937</td>\n",
       "      <td>90</td>\n",
       "      <td>2000</td>\n",
       "      <td>3</td>\n",
       "      <td>1165</td>\n",
       "      <td>1</td>\n",
       "      <td>0</td>\n",
       "      <td>0</td>\n",
       "      <td>1</td>\n",
       "    </tr>\n",
       "    <tr>\n",
       "      <th>1</th>\n",
       "      <td>12050</td>\n",
       "      <td>24</td>\n",
       "      <td>41711</td>\n",
       "      <td>90</td>\n",
       "      <td>2000</td>\n",
       "      <td>3</td>\n",
       "      <td>1165</td>\n",
       "      <td>1</td>\n",
       "      <td>0</td>\n",
       "      <td>0</td>\n",
       "      <td>1</td>\n",
       "    </tr>\n",
       "    <tr>\n",
       "      <th>2</th>\n",
       "      <td>12914</td>\n",
       "      <td>26</td>\n",
       "      <td>48000</td>\n",
       "      <td>90</td>\n",
       "      <td>2000</td>\n",
       "      <td>3</td>\n",
       "      <td>1165</td>\n",
       "      <td>1</td>\n",
       "      <td>0</td>\n",
       "      <td>0</td>\n",
       "      <td>0</td>\n",
       "    </tr>\n",
       "    <tr>\n",
       "      <th>3</th>\n",
       "      <td>11878</td>\n",
       "      <td>30</td>\n",
       "      <td>38500</td>\n",
       "      <td>90</td>\n",
       "      <td>2000</td>\n",
       "      <td>3</td>\n",
       "      <td>1170</td>\n",
       "      <td>1</td>\n",
       "      <td>0</td>\n",
       "      <td>0</td>\n",
       "      <td>0</td>\n",
       "    </tr>\n",
       "    <tr>\n",
       "      <th>4</th>\n",
       "      <td>11187</td>\n",
       "      <td>32</td>\n",
       "      <td>61000</td>\n",
       "      <td>90</td>\n",
       "      <td>2000</td>\n",
       "      <td>3</td>\n",
       "      <td>1170</td>\n",
       "      <td>1</td>\n",
       "      <td>0</td>\n",
       "      <td>0</td>\n",
       "      <td>0</td>\n",
       "    </tr>\n",
       "  </tbody>\n",
       "</table>\n",
       "</div>"
      ],
      "text/plain": [
       "   Price  Age  Mileage  HP    CC  Doors  Weight  FuelType_Diesel  \\\n",
       "0  11878   23    72937  90  2000      3    1165                1   \n",
       "1  12050   24    41711  90  2000      3    1165                1   \n",
       "2  12914   26    48000  90  2000      3    1165                1   \n",
       "3  11878   30    38500  90  2000      3    1170                1   \n",
       "4  11187   32    61000  90  2000      3    1170                1   \n",
       "\n",
       "   FuelType_Petrol  Automatic_1  MetColor_1  \n",
       "0                0            0           1  \n",
       "1                0            0           1  \n",
       "2                0            0           0  \n",
       "3                0            0           0  \n",
       "4                0            0           0  "
      ]
     },
     "execution_count": 38,
     "metadata": {},
     "output_type": "execute_result"
    }
   ],
   "source": [
    "dummied_df.head()"
   ]
  },
  {
   "cell_type": "markdown",
   "id": "2624af54",
   "metadata": {},
   "source": [
    "Discussion: To avoid multicollinearity when performing linear regression with an intercept, we only use `n-1` dummies for a categorical variable with `n` values. In the end, there will be 11 columns (including the label) after the one-hot encoding."
   ]
  },
  {
   "cell_type": "markdown",
   "id": "977dc719",
   "metadata": {},
   "source": [
    "B.(1 pts) Split the data into features (X) and target (y) variables. The target variable is the 'Price' column. Then split the data into train test sets using a 80-20 split. Use `random_state=42` for reproducibility. How many samples are in the training set and how many samples are in the test set?\n"
   ]
  },
  {
   "cell_type": "code",
   "execution_count": 39,
   "id": "247139a5",
   "metadata": {},
   "outputs": [],
   "source": [
    "# TODO\n",
    "import sklearn.model_selection\n",
    "X = dummied_df.drop(columns='Price')\n",
    "y = dummied_df['Price']\n",
    "# split the data into training and testing sets 80% and 20%\n",
    "X_train, X_test, y_train, y_test = sklearn.model_selection.train_test_split(X, y, test_size=0.2, random_state=42)"
   ]
  },
  {
   "cell_type": "code",
   "execution_count": 40,
   "id": "f7521940",
   "metadata": {},
   "outputs": [
    {
     "name": "stdout",
     "output_type": "stream",
     "text": [
      "# of training samples: 1148\n",
      "# of testing samples: 288\n"
     ]
    }
   ],
   "source": [
    "print(f\"# of training samples: {X_train.shape[0]}\")\n",
    "print(f\"# of testing samples: {X_test.shape[0]}\")"
   ]
  },
  {
   "cell_type": "markdown",
   "id": "ac6b674f",
   "metadata": {},
   "source": [
    "C.(1 pts) Why do we split the data into only train-test sets but not train-validation-test sets? "
   ]
  },
  {
   "cell_type": "markdown",
   "id": "3380bf54",
   "metadata": {},
   "source": [
    "We don't have hyper parameter in linear regression, so there's no need to use validation set to choose the best hyper parameter."
   ]
  },
  {
   "cell_type": "markdown",
   "id": "b840ea36",
   "metadata": {},
   "source": [
    "D.(1 pts) **Standardize the Features**: Use `StandardScaler` from `sklearn.preprocessing` and then add a constant column using `sm.add_constant()`. Print the average and standard deviation of the training set after standardization."
   ]
  },
  {
   "cell_type": "code",
   "execution_count": 41,
   "id": "c3593ab6",
   "metadata": {},
   "outputs": [
    {
     "data": {
      "text/html": [
       "<div>\n",
       "<style scoped>\n",
       "    .dataframe tbody tr th:only-of-type {\n",
       "        vertical-align: middle;\n",
       "    }\n",
       "\n",
       "    .dataframe tbody tr th {\n",
       "        vertical-align: top;\n",
       "    }\n",
       "\n",
       "    .dataframe thead th {\n",
       "        text-align: right;\n",
       "    }\n",
       "</style>\n",
       "<table border=\"1\" class=\"dataframe\">\n",
       "  <thead>\n",
       "    <tr style=\"text-align: right;\">\n",
       "      <th></th>\n",
       "      <th>Age</th>\n",
       "      <th>Mileage</th>\n",
       "      <th>HP</th>\n",
       "      <th>CC</th>\n",
       "      <th>Doors</th>\n",
       "      <th>Weight</th>\n",
       "      <th>FuelType_Diesel</th>\n",
       "      <th>FuelType_Petrol</th>\n",
       "      <th>Automatic_1</th>\n",
       "      <th>MetColor_1</th>\n",
       "    </tr>\n",
       "  </thead>\n",
       "  <tbody>\n",
       "    <tr>\n",
       "      <th>899</th>\n",
       "      <td>57</td>\n",
       "      <td>33535</td>\n",
       "      <td>110</td>\n",
       "      <td>1600</td>\n",
       "      <td>4</td>\n",
       "      <td>1035</td>\n",
       "      <td>0</td>\n",
       "      <td>1</td>\n",
       "      <td>0</td>\n",
       "      <td>0</td>\n",
       "    </tr>\n",
       "    <tr>\n",
       "      <th>881</th>\n",
       "      <td>60</td>\n",
       "      <td>40000</td>\n",
       "      <td>86</td>\n",
       "      <td>1300</td>\n",
       "      <td>4</td>\n",
       "      <td>1000</td>\n",
       "      <td>0</td>\n",
       "      <td>1</td>\n",
       "      <td>0</td>\n",
       "      <td>1</td>\n",
       "    </tr>\n",
       "    <tr>\n",
       "      <th>310</th>\n",
       "      <td>39</td>\n",
       "      <td>24723</td>\n",
       "      <td>110</td>\n",
       "      <td>1600</td>\n",
       "      <td>4</td>\n",
       "      <td>1060</td>\n",
       "      <td>0</td>\n",
       "      <td>1</td>\n",
       "      <td>1</td>\n",
       "      <td>1</td>\n",
       "    </tr>\n",
       "    <tr>\n",
       "      <th>1145</th>\n",
       "      <td>79</td>\n",
       "      <td>71263</td>\n",
       "      <td>86</td>\n",
       "      <td>1300</td>\n",
       "      <td>3</td>\n",
       "      <td>1015</td>\n",
       "      <td>0</td>\n",
       "      <td>1</td>\n",
       "      <td>0</td>\n",
       "      <td>0</td>\n",
       "    </tr>\n",
       "    <tr>\n",
       "      <th>31</th>\n",
       "      <td>23</td>\n",
       "      <td>10000</td>\n",
       "      <td>97</td>\n",
       "      <td>1400</td>\n",
       "      <td>3</td>\n",
       "      <td>1100</td>\n",
       "      <td>0</td>\n",
       "      <td>1</td>\n",
       "      <td>0</td>\n",
       "      <td>1</td>\n",
       "    </tr>\n",
       "  </tbody>\n",
       "</table>\n",
       "</div>"
      ],
      "text/plain": [
       "      Age  Mileage   HP    CC  Doors  Weight  FuelType_Diesel  \\\n",
       "899    57    33535  110  1600      4    1035                0   \n",
       "881    60    40000   86  1300      4    1000                0   \n",
       "310    39    24723  110  1600      4    1060                0   \n",
       "1145   79    71263   86  1300      3    1015                0   \n",
       "31     23    10000   97  1400      3    1100                0   \n",
       "\n",
       "      FuelType_Petrol  Automatic_1  MetColor_1  \n",
       "899                 1            0           0  \n",
       "881                 1            0           1  \n",
       "310                 1            1           1  \n",
       "1145                1            0           0  \n",
       "31                  1            0           1  "
      ]
     },
     "execution_count": 41,
     "metadata": {},
     "output_type": "execute_result"
    }
   ],
   "source": [
    "X_train.head()"
   ]
  },
  {
   "cell_type": "code",
   "execution_count": 42,
   "id": "1cab9a35",
   "metadata": {},
   "outputs": [],
   "source": [
    "# TODO\n",
    "import sklearn.preprocessing\n",
    "scaler = sklearn.preprocessing.StandardScaler()\n",
    "X_train_scaled = scaler.fit_transform(X_train)\n",
    "X_test_scaled = scaler.transform(X_test)\n",
    "X_train_scaled = sm.add_constant(X_train_scaled)\n",
    "X_test_scaled = sm.add_constant(X_test_scaled)"
   ]
  },
  {
   "cell_type": "code",
   "execution_count": 43,
   "id": "cf4bccf8",
   "metadata": {},
   "outputs": [
    {
     "data": {
      "text/plain": [
       "array([ 1.00000000e+00,  8.04621565e-17, -1.02125045e-16,  4.17784274e-16,\n",
       "       -2.41386469e-16,  1.12956489e-16,  6.77738933e-16, -1.85681900e-17,\n",
       "        1.85681900e-17, -4.95151732e-17,  3.86837291e-17])"
      ]
     },
     "execution_count": 43,
     "metadata": {},
     "output_type": "execute_result"
    }
   ],
   "source": [
    "X_train_scaled.mean(axis=0)"
   ]
  },
  {
   "cell_type": "code",
   "execution_count": 44,
   "id": "9948d22f",
   "metadata": {},
   "outputs": [
    {
     "data": {
      "text/plain": [
       "array([0., 1., 1., 1., 1., 1., 1., 1., 1., 1., 1.])"
      ]
     },
     "execution_count": 44,
     "metadata": {},
     "output_type": "execute_result"
    }
   ],
   "source": [
    "X_train_scaled.std(axis=0)"
   ]
  },
  {
   "cell_type": "markdown",
   "id": "35cdffba",
   "metadata": {},
   "source": [
    "E.(2 pts) Should we first standardize the data and then split it into train and test sets or vice versa?   why?"
   ]
  },
  {
   "cell_type": "markdown",
   "id": "a691c2f5",
   "metadata": {},
   "source": [
    "We should split dataset into train and test, and then standardize them separately. If we standardize before splitting, the mean and average information about the test set will be leaked into the training set. With this data leaking, our evaluation on the model will not be reliable."
   ]
  },
  {
   "cell_type": "markdown",
   "id": "c1efda85",
   "metadata": {},
   "source": [
    "**2.2 (10 pts) Train and Evaluate the Linear Regression Model**\n",
    "\n",
    "To train and evaluate a linear regression model using the `statsmodels` library, complete the following steps:\n",
    "\n",
    "1. (2 pts) Train a linear regression model on the training dataset using `sm.OLS` from `statsmodels`, print the summary of the model using `model.summary()`.\n"
   ]
  },
  {
   "cell_type": "code",
   "execution_count": 45,
   "id": "647e254e",
   "metadata": {},
   "outputs": [
    {
     "data": {
      "text/html": [
       "<table class=\"simpletable\">\n",
       "<caption>OLS Regression Results</caption>\n",
       "<tr>\n",
       "  <th>Dep. Variable:</th>          <td>Price</td>      <th>  R-squared:         </th> <td>   0.855</td> \n",
       "</tr>\n",
       "<tr>\n",
       "  <th>Model:</th>                   <td>OLS</td>       <th>  Adj. R-squared:    </th> <td>   0.854</td> \n",
       "</tr>\n",
       "<tr>\n",
       "  <th>Method:</th>             <td>Least Squares</td>  <th>  F-statistic:       </th> <td>   671.2</td> \n",
       "</tr>\n",
       "<tr>\n",
       "  <th>Date:</th>             <td>Tue, 26 Nov 2024</td> <th>  Prob (F-statistic):</th>  <td>  0.00</td>  \n",
       "</tr>\n",
       "<tr>\n",
       "  <th>Time:</th>                 <td>15:18:43</td>     <th>  Log-Likelihood:    </th> <td> -9790.7</td> \n",
       "</tr>\n",
       "<tr>\n",
       "  <th>No. Observations:</th>      <td>  1148</td>      <th>  AIC:               </th> <td>1.960e+04</td>\n",
       "</tr>\n",
       "<tr>\n",
       "  <th>Df Residuals:</th>          <td>  1137</td>      <th>  BIC:               </th> <td>1.966e+04</td>\n",
       "</tr>\n",
       "<tr>\n",
       "  <th>Df Model:</th>              <td>    10</td>      <th>                     </th>     <td> </td>    \n",
       "</tr>\n",
       "<tr>\n",
       "  <th>Covariance Type:</th>      <td>nonrobust</td>    <th>                     </th>     <td> </td>    \n",
       "</tr>\n",
       "</table>\n",
       "<table class=\"simpletable\">\n",
       "<tr>\n",
       "    <td></td>       <th>coef</th>     <th>std err</th>      <th>t</th>      <th>P>|t|</th>  <th>[0.025</th>    <th>0.975]</th>  \n",
       "</tr>\n",
       "<tr>\n",
       "  <th>const</th> <td> 9474.5418</td> <td>   36.286</td> <td>  261.108</td> <td> 0.000</td> <td> 9403.347</td> <td> 9545.737</td>\n",
       "</tr>\n",
       "<tr>\n",
       "  <th>x1</th>    <td>-1901.0506</td> <td>   52.722</td> <td>  -36.058</td> <td> 0.000</td> <td>-2004.493</td> <td>-1797.608</td>\n",
       "</tr>\n",
       "<tr>\n",
       "  <th>x2</th>    <td> -464.0597</td> <td>   51.865</td> <td>   -8.947</td> <td> 0.000</td> <td> -565.822</td> <td> -362.297</td>\n",
       "</tr>\n",
       "<tr>\n",
       "  <th>x3</th>    <td>  280.9196</td> <td>   95.980</td> <td>    2.927</td> <td> 0.003</td> <td>   92.602</td> <td>  469.237</td>\n",
       "</tr>\n",
       "<tr>\n",
       "  <th>x4</th>    <td> -436.9255</td> <td>  108.966</td> <td>   -4.010</td> <td> 0.000</td> <td> -650.722</td> <td> -223.129</td>\n",
       "</tr>\n",
       "<tr>\n",
       "  <th>x5</th>    <td> -131.6184</td> <td>   41.492</td> <td>   -3.172</td> <td> 0.002</td> <td> -213.028</td> <td>  -50.209</td>\n",
       "</tr>\n",
       "<tr>\n",
       "  <th>x6</th>    <td> 1447.3956</td> <td>   81.008</td> <td>   17.867</td> <td> 0.000</td> <td> 1288.453</td> <td> 1606.338</td>\n",
       "</tr>\n",
       "<tr>\n",
       "  <th>x7</th>    <td>   53.5597</td> <td>  181.609</td> <td>    0.295</td> <td> 0.768</td> <td> -302.767</td> <td>  409.887</td>\n",
       "</tr>\n",
       "<tr>\n",
       "  <th>x8</th>    <td>  334.5793</td> <td>  120.258</td> <td>    2.782</td> <td> 0.005</td> <td>   98.626</td> <td>  570.532</td>\n",
       "</tr>\n",
       "<tr>\n",
       "  <th>x9</th>    <td>  -69.2440</td> <td>   38.644</td> <td>   -1.792</td> <td> 0.073</td> <td> -145.066</td> <td>    6.578</td>\n",
       "</tr>\n",
       "<tr>\n",
       "  <th>x10</th>   <td>   27.4136</td> <td>   36.773</td> <td>    0.745</td> <td> 0.456</td> <td>  -44.737</td> <td>   99.564</td>\n",
       "</tr>\n",
       "</table>\n",
       "<table class=\"simpletable\">\n",
       "<tr>\n",
       "  <th>Omnibus:</th>       <td>154.419</td> <th>  Durbin-Watson:     </th> <td>   2.029</td> \n",
       "</tr>\n",
       "<tr>\n",
       "  <th>Prob(Omnibus):</th> <td> 0.000</td>  <th>  Jarque-Bera (JB):  </th> <td>1197.571</td> \n",
       "</tr>\n",
       "<tr>\n",
       "  <th>Skew:</th>          <td> 0.344</td>  <th>  Prob(JB):          </th> <td>8.93e-261</td>\n",
       "</tr>\n",
       "<tr>\n",
       "  <th>Kurtosis:</th>      <td> 7.956</td>  <th>  Cond. No.          </th> <td>    11.5</td> \n",
       "</tr>\n",
       "</table><br/><br/>Notes:<br/>[1] Standard Errors assume that the covariance matrix of the errors is correctly specified."
      ],
      "text/latex": [
       "\\begin{center}\n",
       "\\begin{tabular}{lclc}\n",
       "\\toprule\n",
       "\\textbf{Dep. Variable:}    &      Price       & \\textbf{  R-squared:         } &     0.855   \\\\\n",
       "\\textbf{Model:}            &       OLS        & \\textbf{  Adj. R-squared:    } &     0.854   \\\\\n",
       "\\textbf{Method:}           &  Least Squares   & \\textbf{  F-statistic:       } &     671.2   \\\\\n",
       "\\textbf{Date:}             & Tue, 26 Nov 2024 & \\textbf{  Prob (F-statistic):} &     0.00    \\\\\n",
       "\\textbf{Time:}             &     15:18:43     & \\textbf{  Log-Likelihood:    } &   -9790.7   \\\\\n",
       "\\textbf{No. Observations:} &        1148      & \\textbf{  AIC:               } & 1.960e+04   \\\\\n",
       "\\textbf{Df Residuals:}     &        1137      & \\textbf{  BIC:               } & 1.966e+04   \\\\\n",
       "\\textbf{Df Model:}         &          10      & \\textbf{                     } &             \\\\\n",
       "\\textbf{Covariance Type:}  &    nonrobust     & \\textbf{                     } &             \\\\\n",
       "\\bottomrule\n",
       "\\end{tabular}\n",
       "\\begin{tabular}{lcccccc}\n",
       "               & \\textbf{coef} & \\textbf{std err} & \\textbf{t} & \\textbf{P$> |$t$|$} & \\textbf{[0.025} & \\textbf{0.975]}  \\\\\n",
       "\\midrule\n",
       "\\textbf{const} &    9474.5418  &       36.286     &   261.108  &         0.000        &     9403.347    &     9545.737     \\\\\n",
       "\\textbf{x1}    &   -1901.0506  &       52.722     &   -36.058  &         0.000        &    -2004.493    &    -1797.608     \\\\\n",
       "\\textbf{x2}    &    -464.0597  &       51.865     &    -8.947  &         0.000        &     -565.822    &     -362.297     \\\\\n",
       "\\textbf{x3}    &     280.9196  &       95.980     &     2.927  &         0.003        &       92.602    &      469.237     \\\\\n",
       "\\textbf{x4}    &    -436.9255  &      108.966     &    -4.010  &         0.000        &     -650.722    &     -223.129     \\\\\n",
       "\\textbf{x5}    &    -131.6184  &       41.492     &    -3.172  &         0.002        &     -213.028    &      -50.209     \\\\\n",
       "\\textbf{x6}    &    1447.3956  &       81.008     &    17.867  &         0.000        &     1288.453    &     1606.338     \\\\\n",
       "\\textbf{x7}    &      53.5597  &      181.609     &     0.295  &         0.768        &     -302.767    &      409.887     \\\\\n",
       "\\textbf{x8}    &     334.5793  &      120.258     &     2.782  &         0.005        &       98.626    &      570.532     \\\\\n",
       "\\textbf{x9}    &     -69.2440  &       38.644     &    -1.792  &         0.073        &     -145.066    &        6.578     \\\\\n",
       "\\textbf{x10}   &      27.4136  &       36.773     &     0.745  &         0.456        &      -44.737    &       99.564     \\\\\n",
       "\\bottomrule\n",
       "\\end{tabular}\n",
       "\\begin{tabular}{lclc}\n",
       "\\textbf{Omnibus:}       & 154.419 & \\textbf{  Durbin-Watson:     } &     2.029  \\\\\n",
       "\\textbf{Prob(Omnibus):} &   0.000 & \\textbf{  Jarque-Bera (JB):  } &  1197.571  \\\\\n",
       "\\textbf{Skew:}          &   0.344 & \\textbf{  Prob(JB):          } & 8.93e-261  \\\\\n",
       "\\textbf{Kurtosis:}      &   7.956 & \\textbf{  Cond. No.          } &      11.5  \\\\\n",
       "\\bottomrule\n",
       "\\end{tabular}\n",
       "%\\caption{OLS Regression Results}\n",
       "\\end{center}\n",
       "\n",
       "Notes: \\newline\n",
       " [1] Standard Errors assume that the covariance matrix of the errors is correctly specified."
      ],
      "text/plain": [
       "<class 'statsmodels.iolib.summary.Summary'>\n",
       "\"\"\"\n",
       "                            OLS Regression Results                            \n",
       "==============================================================================\n",
       "Dep. Variable:                  Price   R-squared:                       0.855\n",
       "Model:                            OLS   Adj. R-squared:                  0.854\n",
       "Method:                 Least Squares   F-statistic:                     671.2\n",
       "Date:                Tue, 26 Nov 2024   Prob (F-statistic):               0.00\n",
       "Time:                        15:18:43   Log-Likelihood:                -9790.7\n",
       "No. Observations:                1148   AIC:                         1.960e+04\n",
       "Df Residuals:                    1137   BIC:                         1.966e+04\n",
       "Df Model:                          10                                         \n",
       "Covariance Type:            nonrobust                                         \n",
       "==============================================================================\n",
       "                 coef    std err          t      P>|t|      [0.025      0.975]\n",
       "------------------------------------------------------------------------------\n",
       "const       9474.5418     36.286    261.108      0.000    9403.347    9545.737\n",
       "x1         -1901.0506     52.722    -36.058      0.000   -2004.493   -1797.608\n",
       "x2          -464.0597     51.865     -8.947      0.000    -565.822    -362.297\n",
       "x3           280.9196     95.980      2.927      0.003      92.602     469.237\n",
       "x4          -436.9255    108.966     -4.010      0.000    -650.722    -223.129\n",
       "x5          -131.6184     41.492     -3.172      0.002    -213.028     -50.209\n",
       "x6          1447.3956     81.008     17.867      0.000    1288.453    1606.338\n",
       "x7            53.5597    181.609      0.295      0.768    -302.767     409.887\n",
       "x8           334.5793    120.258      2.782      0.005      98.626     570.532\n",
       "x9           -69.2440     38.644     -1.792      0.073    -145.066       6.578\n",
       "x10           27.4136     36.773      0.745      0.456     -44.737      99.564\n",
       "==============================================================================\n",
       "Omnibus:                      154.419   Durbin-Watson:                   2.029\n",
       "Prob(Omnibus):                  0.000   Jarque-Bera (JB):             1197.571\n",
       "Skew:                           0.344   Prob(JB):                    8.93e-261\n",
       "Kurtosis:                       7.956   Cond. No.                         11.5\n",
       "==============================================================================\n",
       "\n",
       "Notes:\n",
       "[1] Standard Errors assume that the covariance matrix of the errors is correctly specified.\n",
       "\"\"\""
      ]
     },
     "execution_count": 45,
     "metadata": {},
     "output_type": "execute_result"
    }
   ],
   "source": [
    "# TODO\n",
    "model = sm.OLS(y_train, X_train_scaled)\n",
    "result = model.fit()\n",
    "result.summary()\n"
   ]
  },
  {
   "cell_type": "markdown",
   "id": "29f7a394",
   "metadata": {},
   "source": [
    "2. (2 pts) Evaluate the model on the test dataset using the square root of the mean squared error (RMSE) metric. \n",
    "   1. Report the RMSE value.\n",
    "   2. Your boss wants to know how far off the model's predictions are from the actual price of the car. What would you tell him? Given a number and explain how you got it.\n"
   ]
  },
  {
   "cell_type": "code",
   "execution_count": 46,
   "id": "763573c8",
   "metadata": {},
   "outputs": [
    {
     "name": "stdout",
     "output_type": "stream",
     "text": [
      "RMSE: 1651.37\n"
     ]
    }
   ],
   "source": [
    "# TODO\n",
    "y_test_pred = result.predict(X_test_scaled)\n",
    "# RMSE\n",
    "rmse = np.sqrt(sklearn.metrics.mean_squared_error(y_test, y_test_pred))\n",
    "print(f\"RMSE: {rmse:.2f}\")"
   ]
  },
  {
   "cell_type": "markdown",
   "id": "632fb215",
   "metadata": {},
   "source": [
    "**Answer 2.2.2**: I think I'll tell the boss that our linear regression performs well, with an R-squared value of 0.855, which is a quite high value indicating the good quality of linear regression."
   ]
  },
  {
   "cell_type": "markdown",
   "id": "2984353d",
   "metadata": {},
   "source": [
    "3. (2 pts) Report the R² score on the test dataset and interpret it.\n"
   ]
  },
  {
   "cell_type": "code",
   "execution_count": 47,
   "id": "cbb50c86",
   "metadata": {},
   "outputs": [
    {
     "name": "stdout",
     "output_type": "stream",
     "text": [
      "R squared on the test set: 0.738\n"
     ]
    }
   ],
   "source": [
    "# R squared on the test set\n",
    "print(f\"R squared on the test set: {sklearn.metrics.r2_score(y_test, y_test_pred):.3f}\")"
   ]
  },
  {
   "cell_type": "markdown",
   "id": "c2f39c1e",
   "metadata": {},
   "source": [
    "**Answer 2.2.3**: The R-squared score on the test set is 0.738. According to the definition of R-squared value, it means:\n",
    "\n",
    "$$SS_{res} = (1-0.738) * SS_{tot}$$\n",
    "\n",
    "where\n",
    "\n",
    "$$SS_{res} = \\sum_i^n{(y_i-f_i)}^2$$\n",
    "$$SS_{tot} = \\sum_i^n{(y_i-\\bar{y}_i)}^2$$\n",
    "\n",
    "$y_i$ is the true label, $f_i$ is the predicted value, $\\bar{y}_i = \\frac{1}{n}\\sum_i^n{y_i}$ and $n$ is the sample size."
   ]
  },
  {
   "cell_type": "markdown",
   "id": "6edc6757",
   "metadata": {},
   "source": [
    "4.  (2 pts) Which features are statistically significant at a 5% significance level? "
   ]
  },
  {
   "cell_type": "markdown",
   "id": "e9c47c52",
   "metadata": {},
   "source": [
    "**Answer 2.2.4**: If we choose the siginificance level $\\alpha=0.05$, $x_1, x_2, x_3, x_4, x_5, x_6, x_8$ have a p-value lower than 0.05, which means Age, Mileage, HP, CC, Doors, Weight, FuelType_Petrol are statistically significant at a 5% significance level."
   ]
  },
  {
   "cell_type": "markdown",
   "id": "11db567f",
   "metadata": {},
   "source": [
    "5.  (2 pts) Determine which two feature have the highest coefficient? What does it imply?"
   ]
  },
  {
   "cell_type": "markdown",
   "id": "b3eba894",
   "metadata": {},
   "source": [
    "**Answer 2.2.5**: Weight and FuelType_Petrol have the largest coefficients, indicating that an increase of 1 in either of these factors leads to the greatest price increase. However, in terms of absolute value, Age and Weight have the highest absolute coefficient values, demonstrating that changes in these two factors have the most significant overall impact on price."
   ]
  },
  {
   "cell_type": "markdown",
   "id": "52e2d643",
   "metadata": {},
   "source": [
    "**2.3 (2 pts): Improvement Discussion**\n",
    "\n",
    "- Suggest a few additional features that could potentially explain this remaining variance in the data ( at least 2 features)."
   ]
  },
  {
   "cell_type": "markdown",
   "id": "b371b1fc",
   "metadata": {},
   "source": [
    "**Answer 2.3**: car brand, safety level, acceleration to 100km/h time, consumption quantity on gasoline, environmental friendly level"
   ]
  },
  {
   "cell_type": "markdown",
   "id": "dd829197",
   "metadata": {},
   "source": [
    "**2.4 (2 pts): Identifying Confounding Variables**\n",
    "\n",
    "The feature \"Weight\" shows a very low p-value and a high coefficient, but it doesn't seem to be a major factor for customers buying a second-hand car. You go to your mentor Tim to discuss this issue. Indeed, Tim suggests that never in his career has he seen a customer who asked for the weight of a car before buying it.\n",
    "You suspect that there might be a confounding variable that is correlated with the car's weight and significantly influences its price.\n",
    "\n",
    "- Suggest a possible confounding variable that may be correlated with the car's weight and significantly influence its price (it doesn't need to be a variable in the dataset). Explain why this variable could be a confounding variable."
   ]
  },
  {
   "cell_type": "code",
   "execution_count": 49,
   "id": "e2c258dc",
   "metadata": {},
   "outputs": [],
   "source": [
    "# TODO"
   ]
  },
  {
   "cell_type": "markdown",
   "id": "104cb90e",
   "metadata": {},
   "source": [
    "**2.5 (2 pts): Adding an Inverse Mileage Term**\n",
    "\n",
    "From the previous scatter plot, the relationship between car price and mileage appears non-linear, with a steep price drop initially and then a flattening. A suitable approach to model this behavior is by incorporating an inverse term of mileage.\n",
    "\n",
    "- Add the inverse mileage term to the model and retrain it using the code provided. Print the model summary and interpret the effect of the inverse mileage term.\n",
    "  "
   ]
  },
  {
   "cell_type": "code",
   "execution_count": 50,
   "id": "bca4a9f6",
   "metadata": {},
   "outputs": [],
   "source": [
    "# TODO"
   ]
  },
  {
   "cell_type": "markdown",
   "id": "2d3ffbc4",
   "metadata": {},
   "source": [
    "## Part 3 Supervised Learning (40 pts)\n",
    "\n",
    "\n",
    "After completing your analysis, you're satisfied with the results. You handed the Jupyter notebook over to your mentor.\n",
    "\n",
    "(Fun fact: The name \"Jupyter\" is derived from Julia, Python, and R—three programming languages that the platform was originally designed for.)\n",
    "\n",
    "Your mentor Tim is very impressed with your work and asks you the following question:\n",
    "\n",
    "“\n",
    "This looks great! It will be very useful for our sales team. While looking at the results, I realized that there might be one thing that we can improve. \n",
    "For companies like us, it is important to sell the cars quickly. If we are patient, we might be able to sell the car for a higher price, but that’s not always the best strategy. We need to consider the maintenance costs for the car, the cash flow and the fact that the price of the car decreases over time.\"\n",
    "\n",
    "He then continues:\n",
    "\"Three months is a sweet spot for us. If we can sell the car within the first three months, it is great. If not, it is worth considering lowering the price to sell it faster and increase our cash flow. I can ask Ivan from Sales to collect data in the last few months on whether the car was sold within the first three months or not. This would be great if you could have a model that tells us if the car will be sold in the first three months or not. \"\n",
    "\n",
    "This sparks your interest, and soon Ivan has provided you with the new data containing an additional column `sold_within_3_months` which is a binary variable indicating whether the car was sold within the first three months or not.\n",
    "\n",
    "Note: The data for this part is in the file `Task3.ToyotaCorolla_sales_3months.csv` and it has already unified the currency and distance units."
   ]
  },
  {
   "cell_type": "code",
   "execution_count": 51,
   "id": "b4ec9ab9",
   "metadata": {},
   "outputs": [
    {
     "name": "stdout",
     "output_type": "stream",
     "text": [
      "   Price  Age     KM FuelType  HP  MetColor  Automatic    CC  Doors  Weight  \\\n",
      "0  13500   23  46986   Diesel  90         1          0  2000      3    1165   \n",
      "1  13750   23  72937   Diesel  90         1          0  2000      3    1165   \n",
      "2  13950   24  41711   Diesel  90         1          0  2000      3    1165   \n",
      "3  14950   26  48000   Diesel  90         0          0  2000      3    1165   \n",
      "4  13750   30  38500   Diesel  90         0          0  2000      3    1170   \n",
      "\n",
      "   sold_within_3_months  \n",
      "0                     0  \n",
      "1                     0  \n",
      "2                     0  \n",
      "3                     0  \n",
      "4                     0  \n"
     ]
    }
   ],
   "source": [
    "data_df = pd.read_csv('data/Task3.ToyotaCorolla_sales_3months.csv', index_col=0)\n",
    "print(data_df.head())"
   ]
  },
  {
   "cell_type": "markdown",
   "id": "86ca7119",
   "metadata": {},
   "source": [
    "\n",
    "**3.1 (2 pts): Preprocess the Data**\n",
    "1. （1 pts）How many cars in the dataset were sold in the first three months, and how many were not? "
   ]
  },
  {
   "cell_type": "code",
   "execution_count": 52,
   "id": "214abae4",
   "metadata": {},
   "outputs": [],
   "source": [
    "# TODO"
   ]
  },
  {
   "cell_type": "markdown",
   "id": "54d3b6f8",
   "metadata": {},
   "source": [
    "2. (1 pts) Preprocess the categorical variables to one-hot encoding using the `pd.get_dummies()` function."
   ]
  },
  {
   "cell_type": "code",
   "execution_count": 53,
   "id": "3e2b1f1d",
   "metadata": {},
   "outputs": [],
   "source": [
    "# TODO"
   ]
  },
  {
   "cell_type": "markdown",
   "id": "2289da79",
   "metadata": {},
   "source": [
    "**3.2 (20 pts): Logistic Regression Model**\n",
    "\n",
    "1. (2 pts) Split the data into features (X) and target (y) variables. The target variable is the 'sold_within_3_months' column. The `Price` column should be included as a feature."
   ]
  },
  {
   "cell_type": "code",
   "execution_count": 54,
   "id": "119c754e",
   "metadata": {},
   "outputs": [],
   "source": [
    "# TODO"
   ]
  },
  {
   "cell_type": "markdown",
   "id": "d51f8664",
   "metadata": {},
   "source": [
    "2. (2 pts) Then split the data into train test sets using a 80-20 split. Use `random_state=42` for reproducibility. "
   ]
  },
  {
   "cell_type": "code",
   "execution_count": 55,
   "id": "2bcdb893",
   "metadata": {},
   "outputs": [],
   "source": [
    "# TODO"
   ]
  },
  {
   "cell_type": "markdown",
   "id": "32caf5d5",
   "metadata": {},
   "source": [
    "3. (2 pts) Standardize the features using `StandardScaler` from `sklearn.preprocessing` and then add a constant column using `sm.add_constant()`."
   ]
  },
  {
   "cell_type": "code",
   "execution_count": 56,
   "id": "587a4fa3",
   "metadata": {},
   "outputs": [],
   "source": [
    "# TODO"
   ]
  },
  {
   "cell_type": "markdown",
   "id": "041fe3b8",
   "metadata": {},
   "source": [
    "4. (2 pts) Fit a logistic regression model on the training dataset."
   ]
  },
  {
   "cell_type": "code",
   "execution_count": 57,
   "id": "e1489059",
   "metadata": {},
   "outputs": [],
   "source": [
    "# TODO"
   ]
  },
  {
   "cell_type": "markdown",
   "id": "642b9728",
   "metadata": {},
   "source": [
    "5. (2 pts) Evaluate the model on the test dataset using the accuracy score metric. Report the accuracy score."
   ]
  },
  {
   "cell_type": "code",
   "execution_count": 58,
   "id": "681d70b1",
   "metadata": {},
   "outputs": [],
   "source": [
    "# TODO"
   ]
  },
  {
   "cell_type": "markdown",
   "id": "6757fff3",
   "metadata": {},
   "source": [
    "6. (2 pts) Calculate the precision, recall, and F1-score."
   ]
  },
  {
   "cell_type": "code",
   "execution_count": 59,
   "id": "ce8f5574",
   "metadata": {},
   "outputs": [],
   "source": [
    "# TODO"
   ]
  },
  {
   "cell_type": "markdown",
   "id": "a97f156a",
   "metadata": {},
   "source": [
    "\n",
    "7. (2 pts) Suppose that your company is running short on cash flow and needs to sell the cars quickly. How should you adjust the threshold for the logistic regression model to ensure that the company can sell the cars as quickly as possible?\n",
    "    - A. Increase the threshold\n",
    "    - B. Decrease the threshold\n",
    "\n",
    "In a more general sense, how does the choice of threshold affect the precision and recall of the model?"
   ]
  },
  {
   "cell_type": "code",
   "execution_count": 60,
   "id": "3619ab5a",
   "metadata": {},
   "outputs": [],
   "source": [
    "# TODO"
   ]
  },
  {
   "cell_type": "markdown",
   "id": "0e6276c5",
   "metadata": {},
   "source": [
    "8. (6 pts) Use binary search to find the optimal threshold that maximizes the F1-score. Implement a binary search algorithm to find the threshold that maximizes the f1-score of the logistic regression model on the training set. The search interval should be between 0 and 1, and the stopping criterion is 10 iterations.  What is the optimal threshold and what difference does the optimal threshold make in the F1-score?"
   ]
  },
  {
   "cell_type": "code",
   "execution_count": 61,
   "id": "5545ba3b",
   "metadata": {},
   "outputs": [],
   "source": [
    "# TODO"
   ]
  },
  {
   "cell_type": "markdown",
   "id": "ef84e604",
   "metadata": {},
   "source": [
    "**3.3(18 pts) Decision Tree Model**\n",
    "\n",
    "Use a Decision Tree model from `sklearn` to predict whether a car will be sold within the first three months.\n",
    "\n",
    "Follow these steps to complete the task:\n",
    "\n",
    "1. (2 pts) Train a Decision Tree Classifier to predict the target variable (`sold_within_3_months`).You can reuse the train and test sets from the previous section. Set `random_state=42` for reproducibility in `DecisionTreeClassifier`."
   ]
  },
  {
   "cell_type": "code",
   "execution_count": 62,
   "id": "b25eec4b",
   "metadata": {},
   "outputs": [],
   "source": [
    "# TODO"
   ]
  },
  {
   "cell_type": "markdown",
   "id": "b63335f2",
   "metadata": {},
   "source": [
    "2. (2 pts) Evaluate the model on the test set and report the depth of the tree."
   ]
  },
  {
   "cell_type": "code",
   "execution_count": 63,
   "id": "10cc6550",
   "metadata": {},
   "outputs": [],
   "source": [
    "# TODO  "
   ]
  },
  {
   "cell_type": "markdown",
   "id": "7ed4f6ff",
   "metadata": {},
   "source": [
    "3. (2 pts) Visualize the Decision Tree"
   ]
  },
  {
   "cell_type": "code",
   "execution_count": 64,
   "id": "80a4220f",
   "metadata": {},
   "outputs": [],
   "source": [
    "# TODO"
   ]
  },
  {
   "cell_type": "markdown",
   "id": "814fe768",
   "metadata": {},
   "source": [
    "4. (2 pts) Retrain the Decision Tree Classifier with a maximum depth of 8 and evaluate it on the test set. Compare and explain the results."
   ]
  },
  {
   "cell_type": "code",
   "execution_count": 65,
   "id": "f68a02c8",
   "metadata": {},
   "outputs": [],
   "source": [
    "# TODO"
   ]
  },
  {
   "cell_type": "markdown",
   "id": "84f5cf86",
   "metadata": {},
   "source": [
    "5. (6 pts) Train a Decision Tree Classifier for each depth from 1 to D where D is the maximum depth of the Decision Tree Classifier seen in the previous step. Evaluate each model on the test set and plot the accuracy of the models as a function of the depth and find the optimal depth.\n"
   ]
  },
  {
   "cell_type": "code",
   "execution_count": 66,
   "id": "a468a503",
   "metadata": {},
   "outputs": [],
   "source": [
    "# TODO"
   ]
  },
  {
   "cell_type": "markdown",
   "id": "6f4ddb52",
   "metadata": {},
   "source": [
    "6. (4 pts) Train a decision tree of depth = 1 , visualize the tree and explain what is the decision rule at the root node."
   ]
  },
  {
   "cell_type": "code",
   "execution_count": 67,
   "id": "622339ab",
   "metadata": {},
   "outputs": [],
   "source": [
    "# TODO"
   ]
  },
  {
   "cell_type": "markdown",
   "id": "c15234a8",
   "metadata": {},
   "source": [
    "## Part 4 Propensity Score Matching (10 pts)\n",
    "\n",
    "Your mentor is thrilled with the progress, and he has asked Ivan to put the model into production. Based on the model's prediction, the sales manager Ivan will decide whether to lower the car's price by 5%.\n",
    "\n",
    "A new quarter has passed, and Ivan has collected updated sales data, which includes the following columns:\n",
    "\n",
    "- `Price`: The initial price of the car.\n",
    "- `Pred_Prob`: The predicted probability of the car being sold within the first three months.\n",
    "- `Applied_Discount`: Whether the discount was applied (Yes=1, No=0).\n",
    "- `Discounted_Price`: The car's final price, calculated as `Price * 95%` if the discount was applied; otherwise, it's equal to `Price`.\n",
    "- `Sold_within_3_months`: Whether the car was sold within the first three months (Yes=1, No=0).\n",
    "\n",
    "Your task is to estimate the causal effect of the discount on sales within the first three months using propensity score matching."
   ]
  },
  {
   "cell_type": "code",
   "execution_count": 68,
   "id": "436d7945",
   "metadata": {},
   "outputs": [
    {
     "name": "stdout",
     "output_type": "stream",
     "text": [
      "   Price  Pred_Prob  Applied_Discount  Discounted_Price  Sold_within_3_months\n",
      "0  12750       0.01                 1           11475.0                     1\n",
      "1  21950       0.00                 1           19755.0                     1\n",
      "2   9950       0.79                 0            9950.0                     1\n",
      "3   9930       0.91                 1            8937.0                     0\n",
      "4   9450       0.97                 0            9450.0                     0\n"
     ]
    }
   ],
   "source": [
    "data_df = pd.read_csv('data/Task4.ToyotaCorolla_discount_sales.csv', index_col=0)\n",
    "print(data_df.head())"
   ]
  },
  {
   "cell_type": "markdown",
   "id": "dd889819",
   "metadata": {},
   "source": [
    "**4.1 (1 pts): How many samples are in the treated group, and how many are in the control group?**"
   ]
  },
  {
   "cell_type": "code",
   "execution_count": 69,
   "id": "fe5f7e33",
   "metadata": {},
   "outputs": [],
   "source": [
    "# TODO"
   ]
  },
  {
   "cell_type": "markdown",
   "id": "f8c42cde",
   "metadata": {},
   "source": [
    "\n",
    "**4.2 (5 pts): Propensity Score Matching**\n",
    "- The propensity score is the predicted probability of the car being sold within the first three months from the logistic regression model, i.e. `Pred_Prob` column in the `Task4.ToyotaCorolla_discount_sales.csv` file. Create pairs of matched samples as follows:\n",
    "  - For each treated sample (discount applied), find a control sample (discount not applied) with a difference in propensity score of less than 0.05.\n",
    "  - If there is more than one control sample for a treated sample, choose the control sample with the smallest difference in propensity score.\n",
    "  - If there is no control sample satisfying the condition, discard the treated sample.\n",
    "  - How many successful matches did you get?\n",
    "\n",
    "Notice that your output should be 1-to-1 matching, meaning that each treated sample should be matched with at most one control sample.\n",
    "So each sample can only appear once in the pairs."
   ]
  },
  {
   "cell_type": "code",
   "execution_count": 70,
   "id": "7dbadaf3",
   "metadata": {},
   "outputs": [],
   "source": [
    "# TODO"
   ]
  },
  {
   "cell_type": "markdown",
   "id": "36b061ed",
   "metadata": {},
   "source": [
    "**4.3 (4 pts): Average Treatment Effect (ATE)**\n",
    "\n",
    "Now let's estimate the effect of the discount on sales. \n",
    "\n",
    "For each matched pair, there is one treated sample and one control sample. They may have different outcomes and we can calculate the average treatment effect (ATE) as \n",
    "\n",
    "$$ ATE = \\frac{1}{N} \\sum_i^N  y_{treat}^{(i)} - y_{\\\\control}^{(i)} $$ \n",
    "\n",
    "where $y_{treat}^{(i)}$ and $y_{\\\\control}^{(i)}$ are the outcomes for the treated and control samples, respectively.\n",
    "\n",
    "Notice that here the outcome is a simple binary variable, which is whether the car was sold within the first three months or not.\n",
    "\n",
    "1. (3 pts) Calculate the ATE based on the matched pairs and report the result\n",
    "\n"
   ]
  },
  {
   "cell_type": "code",
   "execution_count": 71,
   "id": "e3a6d939",
   "metadata": {},
   "outputs": [],
   "source": [
    "# TODO"
   ]
  },
  {
   "cell_type": "markdown",
   "id": "547643f0",
   "metadata": {},
   "source": [
    "2. (1 pts) What is your conclusion about the effect of the discount on sales within the first three months?"
   ]
  },
  {
   "cell_type": "code",
   "execution_count": 72,
   "id": "560573b2",
   "metadata": {},
   "outputs": [],
   "source": [
    "# TODO"
   ]
  }
 ],
 "metadata": {
  "kernelspec": {
   "display_name": "ada",
   "language": "python",
   "name": "python3"
  },
  "language_info": {
   "codemirror_mode": {
    "name": "ipython",
    "version": 3
   },
   "file_extension": ".py",
   "mimetype": "text/x-python",
   "name": "python",
   "nbconvert_exporter": "python",
   "pygments_lexer": "ipython3",
   "version": "3.12.6"
  }
 },
 "nbformat": 4,
 "nbformat_minor": 5
}
